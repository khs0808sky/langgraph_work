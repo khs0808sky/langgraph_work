{
 "cells": [
  {
   "cell_type": "code",
   "execution_count": 1,
   "id": "7f184658",
   "metadata": {},
   "outputs": [
    {
     "data": {
      "text/plain": [
       "True"
      ]
     },
     "execution_count": 1,
     "metadata": {},
     "output_type": "execute_result"
    }
   ],
   "source": [
    "from dotenv import load_dotenv\n",
    "load_dotenv()"
   ]
  },
  {
   "cell_type": "code",
   "execution_count": 2,
   "id": "eadfc609",
   "metadata": {},
   "outputs": [],
   "source": [
    "from textwrap import dedent\n",
    "from pprint import pprint"
   ]
  },
  {
   "cell_type": "code",
   "execution_count": 3,
   "id": "987c49aa",
   "metadata": {},
   "outputs": [
    {
     "name": "stdout",
     "output_type": "stream",
     "text": [
      "H\n",
      "----------------------------------------------------------------------------------------------------\n",
      "T\n",
      "----------------------------------------------------------------------------------------------------\n",
      "T\n",
      "----------------------------------------------------------------------------------------------------\n",
      "P\n",
      "----------------------------------------------------------------------------------------------------\n",
      "E\n",
      "----------------------------------------------------------------------------------------------------\n",
      "r\n",
      "----------------------------------------------------------------------------------------------------\n",
      "r\n",
      "----------------------------------------------------------------------------------------------------\n",
      "o\n",
      "----------------------------------------------------------------------------------------------------\n",
      "r\n",
      "----------------------------------------------------------------------------------------------------\n",
      "(\n",
      "----------------------------------------------------------------------------------------------------\n",
      "'\n",
      "----------------------------------------------------------------------------------------------------\n",
      "4\n",
      "----------------------------------------------------------------------------------------------------\n",
      "2\n",
      "----------------------------------------------------------------------------------------------------\n",
      "9\n",
      "----------------------------------------------------------------------------------------------------\n",
      " \n",
      "----------------------------------------------------------------------------------------------------\n",
      "C\n",
      "----------------------------------------------------------------------------------------------------\n",
      "l\n",
      "----------------------------------------------------------------------------------------------------\n",
      "i\n",
      "----------------------------------------------------------------------------------------------------\n",
      "e\n",
      "----------------------------------------------------------------------------------------------------\n",
      "n\n",
      "----------------------------------------------------------------------------------------------------\n",
      "t\n",
      "----------------------------------------------------------------------------------------------------\n",
      " \n",
      "----------------------------------------------------------------------------------------------------\n",
      "E\n",
      "----------------------------------------------------------------------------------------------------\n",
      "r\n",
      "----------------------------------------------------------------------------------------------------\n",
      "r\n",
      "----------------------------------------------------------------------------------------------------\n",
      "o\n",
      "----------------------------------------------------------------------------------------------------\n",
      "r\n",
      "----------------------------------------------------------------------------------------------------\n",
      ":\n",
      "----------------------------------------------------------------------------------------------------\n",
      " \n",
      "----------------------------------------------------------------------------------------------------\n",
      "T\n",
      "----------------------------------------------------------------------------------------------------\n",
      "o\n",
      "----------------------------------------------------------------------------------------------------\n",
      "o\n",
      "----------------------------------------------------------------------------------------------------\n",
      " \n",
      "----------------------------------------------------------------------------------------------------\n",
      "M\n",
      "----------------------------------------------------------------------------------------------------\n",
      "a\n",
      "----------------------------------------------------------------------------------------------------\n",
      "n\n",
      "----------------------------------------------------------------------------------------------------\n",
      "y\n",
      "----------------------------------------------------------------------------------------------------\n",
      " \n",
      "----------------------------------------------------------------------------------------------------\n",
      "R\n",
      "----------------------------------------------------------------------------------------------------\n",
      "e\n",
      "----------------------------------------------------------------------------------------------------\n",
      "q\n",
      "----------------------------------------------------------------------------------------------------\n",
      "u\n",
      "----------------------------------------------------------------------------------------------------\n",
      "e\n",
      "----------------------------------------------------------------------------------------------------\n",
      "s\n",
      "----------------------------------------------------------------------------------------------------\n",
      "t\n",
      "----------------------------------------------------------------------------------------------------\n",
      "s\n",
      "----------------------------------------------------------------------------------------------------\n",
      " \n",
      "----------------------------------------------------------------------------------------------------\n",
      "f\n",
      "----------------------------------------------------------------------------------------------------\n",
      "o\n",
      "----------------------------------------------------------------------------------------------------\n",
      "r\n",
      "----------------------------------------------------------------------------------------------------\n",
      " \n",
      "----------------------------------------------------------------------------------------------------\n",
      "u\n",
      "----------------------------------------------------------------------------------------------------\n",
      "r\n",
      "----------------------------------------------------------------------------------------------------\n",
      "l\n",
      "----------------------------------------------------------------------------------------------------\n",
      ":\n",
      "----------------------------------------------------------------------------------------------------\n",
      " \n",
      "----------------------------------------------------------------------------------------------------\n",
      "h\n",
      "----------------------------------------------------------------------------------------------------\n",
      "t\n",
      "----------------------------------------------------------------------------------------------------\n",
      "t\n",
      "----------------------------------------------------------------------------------------------------\n",
      "p\n",
      "----------------------------------------------------------------------------------------------------\n",
      "s\n",
      "----------------------------------------------------------------------------------------------------\n",
      ":\n",
      "----------------------------------------------------------------------------------------------------\n",
      "/\n",
      "----------------------------------------------------------------------------------------------------\n",
      "/\n",
      "----------------------------------------------------------------------------------------------------\n",
      "a\n",
      "----------------------------------------------------------------------------------------------------\n",
      "p\n",
      "----------------------------------------------------------------------------------------------------\n",
      "i\n",
      "----------------------------------------------------------------------------------------------------\n",
      ".\n",
      "----------------------------------------------------------------------------------------------------\n",
      "t\n",
      "----------------------------------------------------------------------------------------------------\n",
      "a\n",
      "----------------------------------------------------------------------------------------------------\n",
      "v\n",
      "----------------------------------------------------------------------------------------------------\n",
      "i\n",
      "----------------------------------------------------------------------------------------------------\n",
      "l\n",
      "----------------------------------------------------------------------------------------------------\n",
      "y\n",
      "----------------------------------------------------------------------------------------------------\n",
      ".\n",
      "----------------------------------------------------------------------------------------------------\n",
      "c\n",
      "----------------------------------------------------------------------------------------------------\n",
      "o\n",
      "----------------------------------------------------------------------------------------------------\n",
      "m\n",
      "----------------------------------------------------------------------------------------------------\n",
      "/\n",
      "----------------------------------------------------------------------------------------------------\n",
      "s\n",
      "----------------------------------------------------------------------------------------------------\n",
      "e\n",
      "----------------------------------------------------------------------------------------------------\n",
      "a\n",
      "----------------------------------------------------------------------------------------------------\n",
      "r\n",
      "----------------------------------------------------------------------------------------------------\n",
      "c\n",
      "----------------------------------------------------------------------------------------------------\n",
      "h\n",
      "----------------------------------------------------------------------------------------------------\n",
      "'\n",
      "----------------------------------------------------------------------------------------------------\n",
      ")\n",
      "----------------------------------------------------------------------------------------------------\n"
     ]
    }
   ],
   "source": [
    "from langchain_community.tools import TavilySearchResults\n",
    "\n",
    "query = \"스테이크와 어울리는 와인을 추천해 주세요.\"\n",
    "\n",
    "web_search = TavilySearchResults(max_results=2)\n",
    "\n",
    "search_results = web_search.invoke(query)\n",
    "\n",
    "for result in search_results:\n",
    "    print(result)\n",
    "    print('-'*100)"
   ]
  },
  {
   "cell_type": "code",
   "execution_count": 4,
   "id": "c34e69d2",
   "metadata": {},
   "outputs": [
    {
     "name": "stdout",
     "output_type": "stream",
     "text": [
      "<class 'langchain_community.tools.tavily_search.tool.TavilySearchResults'>\n"
     ]
    }
   ],
   "source": [
    "print(type(web_search))"
   ]
  },
  {
   "cell_type": "code",
   "execution_count": 5,
   "id": "3eb4658d",
   "metadata": {},
   "outputs": [
    {
     "name": "stdout",
     "output_type": "stream",
     "text": [
      "tavily_search_results_json\n"
     ]
    }
   ],
   "source": [
    "print(web_search.name)"
   ]
  },
  {
   "cell_type": "code",
   "execution_count": 6,
   "id": "5e676689",
   "metadata": {},
   "outputs": [
    {
     "name": "stdout",
     "output_type": "stream",
     "text": [
      "A search engine optimized for comprehensive, accurate, and trusted results. Useful for when you need to answer questions about current events. Input should be a search query.\n"
     ]
    }
   ],
   "source": [
    "print(web_search.description)"
   ]
  },
  {
   "cell_type": "code",
   "execution_count": 7,
   "id": "541b5b44",
   "metadata": {},
   "outputs": [],
   "source": [
    "from langchain_openai import ChatOpenAI\n",
    "\n",
    "llm = ChatOpenAI(model='gpt-4o-mini')\n",
    "\n",
    "llm_with_tools = llm.bind_tools(tools=[web_search])"
   ]
  },
  {
   "cell_type": "code",
   "execution_count": 8,
   "id": "6eb8d1ae",
   "metadata": {},
   "outputs": [
    {
     "name": "stdout",
     "output_type": "stream",
     "text": [
      "AIMessage(content='안녕하세요! 어떻게 도와드릴까요?', additional_kwargs={'refusal': None}, response_metadata={'token_usage': {'completion_tokens': 11, 'prompt_tokens': 82, 'total_tokens': 93, 'completion_tokens_details': {'accepted_prediction_tokens': 0, 'audio_tokens': 0, 'reasoning_tokens': 0, 'rejected_prediction_tokens': 0}, 'prompt_tokens_details': {'audio_tokens': 0, 'cached_tokens': 0}}, 'model_name': 'gpt-4o-mini-2024-07-18', 'system_fingerprint': 'fp_560af6e559', 'finish_reason': 'stop', 'logprobs': None}, id='run--a7b404d8-a46d-458c-9e6f-b80394a7b14a-0', usage_metadata={'input_tokens': 82, 'output_tokens': 11, 'total_tokens': 93})\n",
      "----------------------------------------------------------------------------------------------------\n",
      "'안녕하세요! 어떻게 도와드릴까요?'\n",
      "----------------------------------------------------------------------------------------------------\n",
      "[]\n",
      "----------------------------------------------------------------------------------------------------\n"
     ]
    }
   ],
   "source": [
    "query = \"안녕하세요.\"\n",
    "ai_msg = llm_with_tools.invoke(query)\n",
    "\n",
    "pprint(ai_msg)\n",
    "print('-'*100)\n",
    "\n",
    "pprint(ai_msg.content)\n",
    "print('-'*100)\n",
    "\n",
    "pprint(ai_msg.tool_calls)\n",
    "print('-'*100)"
   ]
  },
  {
   "cell_type": "code",
   "execution_count": 9,
   "id": "75bc6c4c",
   "metadata": {},
   "outputs": [
    {
     "name": "stdout",
     "output_type": "stream",
     "text": [
      "AIMessage(content='', additional_kwargs={'tool_calls': [{'id': 'call_yUJneWJj92hK3KO2OIqWcpUZ', 'function': {'arguments': '{\"query\": \"스테이크와 어울리는 와인 추천\"}', 'name': 'tavily_search_results_json'}, 'type': 'function'}, {'id': 'call_RtUnkC6ZA2QdgCOeXH4JQHod', 'function': {'arguments': '{\"query\": \"스테이크에 적합한 와인 종류\"}', 'name': 'tavily_search_results_json'}, 'type': 'function'}], 'refusal': None}, response_metadata={'token_usage': {'completion_tokens': 70, 'prompt_tokens': 92, 'total_tokens': 162, 'completion_tokens_details': {'accepted_prediction_tokens': 0, 'audio_tokens': 0, 'reasoning_tokens': 0, 'rejected_prediction_tokens': 0}, 'prompt_tokens_details': {'audio_tokens': 0, 'cached_tokens': 0}}, 'model_name': 'gpt-4o-mini-2024-07-18', 'system_fingerprint': 'fp_560af6e559', 'finish_reason': 'tool_calls', 'logprobs': None}, id='run--a5c11bd9-4d69-4eb2-af69-e7df92eb2694-0', tool_calls=[{'name': 'tavily_search_results_json', 'args': {'query': '스테이크와 어울리는 와인 추천'}, 'id': 'call_yUJneWJj92hK3KO2OIqWcpUZ', 'type': 'tool_call'}, {'name': 'tavily_search_results_json', 'args': {'query': '스테이크에 적합한 와인 종류'}, 'id': 'call_RtUnkC6ZA2QdgCOeXH4JQHod', 'type': 'tool_call'}], usage_metadata={'input_tokens': 92, 'output_tokens': 70, 'total_tokens': 162})\n",
      "----------------------------------------------------------------------------------------------------\n",
      "''\n",
      "----------------------------------------------------------------------------------------------------\n",
      "[{'args': {'query': '스테이크와 어울리는 와인 추천'},\n",
      "  'id': 'call_yUJneWJj92hK3KO2OIqWcpUZ',\n",
      "  'name': 'tavily_search_results_json',\n",
      "  'type': 'tool_call'},\n",
      " {'args': {'query': '스테이크에 적합한 와인 종류'},\n",
      "  'id': 'call_RtUnkC6ZA2QdgCOeXH4JQHod',\n",
      "  'name': 'tavily_search_results_json',\n",
      "  'type': 'tool_call'}]\n",
      "----------------------------------------------------------------------------------------------------\n"
     ]
    }
   ],
   "source": [
    "query = \"스테이크와 어울리는 와인을 추천해 주세요.\"\n",
    "ai_msg = llm_with_tools.invoke(query)\n",
    "\n",
    "pprint(ai_msg)\n",
    "print('-'*100)\n",
    "\n",
    "pprint(ai_msg.content)\n",
    "print('-'*100)\n",
    "\n",
    "pprint(ai_msg.tool_calls)\n",
    "print('-'*100)"
   ]
  },
  {
   "cell_type": "code",
   "execution_count": 10,
   "id": "138fcf3a",
   "metadata": {},
   "outputs": [
    {
     "data": {
      "text/plain": [
       "{'name': 'tavily_search_results_json',\n",
       " 'args': {'query': '스테이크와 어울리는 와인 추천'},\n",
       " 'id': 'call_yUJneWJj92hK3KO2OIqWcpUZ',\n",
       " 'type': 'tool_call'}"
      ]
     },
     "execution_count": 10,
     "metadata": {},
     "output_type": "execute_result"
    }
   ],
   "source": [
    "tool_call = ai_msg.tool_calls[0]\n",
    "tool_call"
   ]
  },
  {
   "cell_type": "code",
   "execution_count": 11,
   "id": "1b7afbcc",
   "metadata": {},
   "outputs": [
    {
     "name": "stdout",
     "output_type": "stream",
     "text": [
      "content=\"HTTPError('429 Client Error: Too Many Requests for url: https://api.tavily.com/search')\" name='tavily_search_results_json' tool_call_id='call_yUJneWJj92hK3KO2OIqWcpUZ' artifact={}\n"
     ]
    }
   ],
   "source": [
    "tool_message = web_search.invoke(tool_call)\n",
    "\n",
    "print(tool_message)"
   ]
  },
  {
   "cell_type": "code",
   "execution_count": 12,
   "id": "768fad01",
   "metadata": {},
   "outputs": [
    {
     "name": "stdout",
     "output_type": "stream",
     "text": [
      "(\"HTTPError('429 Client Error: Too Many Requests for url: \"\n",
      " \"https://api.tavily.com/search')\")\n"
     ]
    }
   ],
   "source": [
    "pprint(tool_message.content)"
   ]
  },
  {
   "cell_type": "code",
   "execution_count": 13,
   "id": "9eba5cbd",
   "metadata": {},
   "outputs": [
    {
     "name": "stdout",
     "output_type": "stream",
     "text": [
      "tool_mags: \n",
      " [ToolMessage(content=\"HTTPError('429 Client Error: Too Many Requests for url: https://api.tavily.com/search')\", name='tavily_search_results_json', tool_call_id='call_GTgqhfue1dOawbRsWp4frxCJ', artifact={})]\n",
      "----------------------------------------------------------------------------------------------------\n",
      "''\n"
     ]
    }
   ],
   "source": [
    "from datetime import datetime\n",
    "from langchain_core.prompts import ChatPromptTemplate\n",
    "from langchain_core.runnables import chain\n",
    "\n",
    "today = datetime.today().strftime(\"%Y-%m-%d\")\n",
    "\n",
    "prompt = ChatPromptTemplate([\n",
    "    (\"system\", f\"You are helpful AI assistant. Today's date is {today}.\"),\n",
    "    ('human', \"{user_input}\"),\n",
    "    (\"placeholder\", \"{message}\"),\n",
    "])\n",
    "\n",
    "llm = ChatOpenAI(model='gpt-4o-mini')\n",
    "\n",
    "llm_with_tools = llm.bind_tools(tools=[web_search])\n",
    "\n",
    "llm_chain = prompt | llm_with_tools\n",
    "\n",
    "@chain\n",
    "def web_search_chain(user_input: str):\n",
    "    input_ = {\"user_input\": user_input}\n",
    "    ai_msg = llm_chain.invoke(input_)\n",
    "\n",
    "    tool_msgs = web_search.batch(ai_msg.tool_calls)\n",
    "    print(\"tool_mags: \\n\", tool_msgs)\n",
    "    print('-'*100)\n",
    "\n",
    "    return llm_chain.invoke({**input_, \"message\": [ai_msg, *tool_msgs]})\n",
    "\n",
    "response = web_search_chain.invoke(\"오늘 모엣샹동 샴페인의 원화 가격은 얼마인가요?\")\n",
    "\n",
    "pprint(response.content)\n",
    "\n",
    "\n"
   ]
  },
  {
   "cell_type": "code",
   "execution_count": 14,
   "id": "f93f3201",
   "metadata": {},
   "outputs": [],
   "source": [
    "# 도구 정의하기\n",
    "from langchain_community.tools import TavilySearchResults\n",
    "from langchain_core.tools import tool\n",
    "from typing import List\n",
    "\n",
    "@tool\n",
    "def search_web(query: str) -> str:\n",
    "    \"\"\"Searches the internet for information that does not exist in the database or \n",
    "    for the latest information.\"\"\"\n",
    "\n",
    "    tavily_search = TavilySearchResults(max_results=2)\n",
    "    docs = tavily_search.invoke(query)\n",
    "\n",
    "    formatted_docs = \"\\n---\\n\".join([\n",
    "        f'<Document href=\"{doc[\"url\"]}\"/>\\n{doc[\"content\"]}\\n</Document>'\n",
    "        for doc in docs\n",
    "        ])\n",
    "       \n",
    "    if len(formatted_docs) > 0:\n",
    "        return formatted_docs\n",
    "    \n",
    "    return \"관련 정보를 찾을 수 없습니다.\"\n",
    "\n"
   ]
  },
  {
   "cell_type": "code",
   "execution_count": 15,
   "id": "d2c81531",
   "metadata": {},
   "outputs": [
    {
     "ename": "TypeError",
     "evalue": "string indices must be integers, not 'str'",
     "output_type": "error",
     "traceback": [
      "\u001b[31m---------------------------------------------------------------------------\u001b[39m",
      "\u001b[31mTypeError\u001b[39m                                 Traceback (most recent call last)",
      "\u001b[36mCell\u001b[39m\u001b[36m \u001b[39m\u001b[32mIn[15]\u001b[39m\u001b[32m, line 2\u001b[39m\n\u001b[32m      1\u001b[39m query = \u001b[33m\"\u001b[39m\u001b[33m스테이크와 어울리는 와인을 추천해 주세요.\u001b[39m\u001b[33m\"\u001b[39m\n\u001b[32m----> \u001b[39m\u001b[32m2\u001b[39m search_result = \u001b[43msearch_web\u001b[49m\u001b[43m.\u001b[49m\u001b[43minvoke\u001b[49m\u001b[43m(\u001b[49m\u001b[43mquery\u001b[49m\u001b[43m)\u001b[49m\n\u001b[32m      4\u001b[39m \u001b[38;5;28mprint\u001b[39m(search_result)\n",
      "\u001b[36mFile \u001b[39m\u001b[32mc:\\Users\\USER\\AppData\\Local\\pypoetry\\Cache\\virtualenvs\\langgraph-env-_XZusGZJ-py3.11\\Lib\\site-packages\\langchain_core\\tools\\base.py:513\u001b[39m, in \u001b[36mBaseTool.invoke\u001b[39m\u001b[34m(self, input, config, **kwargs)\u001b[39m\n\u001b[32m    505\u001b[39m \u001b[38;5;129m@override\u001b[39m\n\u001b[32m    506\u001b[39m \u001b[38;5;28;01mdef\u001b[39;00m\u001b[38;5;250m \u001b[39m\u001b[34minvoke\u001b[39m(\n\u001b[32m    507\u001b[39m     \u001b[38;5;28mself\u001b[39m,\n\u001b[32m   (...)\u001b[39m\u001b[32m    510\u001b[39m     **kwargs: Any,\n\u001b[32m    511\u001b[39m ) -> Any:\n\u001b[32m    512\u001b[39m     tool_input, kwargs = _prep_run_args(\u001b[38;5;28minput\u001b[39m, config, **kwargs)\n\u001b[32m--> \u001b[39m\u001b[32m513\u001b[39m     \u001b[38;5;28;01mreturn\u001b[39;00m \u001b[38;5;28;43mself\u001b[39;49m\u001b[43m.\u001b[49m\u001b[43mrun\u001b[49m\u001b[43m(\u001b[49m\u001b[43mtool_input\u001b[49m\u001b[43m,\u001b[49m\u001b[43m \u001b[49m\u001b[43m*\u001b[49m\u001b[43m*\u001b[49m\u001b[43mkwargs\u001b[49m\u001b[43m)\u001b[49m\n",
      "\u001b[36mFile \u001b[39m\u001b[32mc:\\Users\\USER\\AppData\\Local\\pypoetry\\Cache\\virtualenvs\\langgraph-env-_XZusGZJ-py3.11\\Lib\\site-packages\\langchain_core\\tools\\base.py:774\u001b[39m, in \u001b[36mBaseTool.run\u001b[39m\u001b[34m(self, tool_input, verbose, start_color, color, callbacks, tags, metadata, run_name, run_id, config, tool_call_id, **kwargs)\u001b[39m\n\u001b[32m    772\u001b[39m \u001b[38;5;28;01mif\u001b[39;00m error_to_raise:\n\u001b[32m    773\u001b[39m     run_manager.on_tool_error(error_to_raise)\n\u001b[32m--> \u001b[39m\u001b[32m774\u001b[39m     \u001b[38;5;28;01mraise\u001b[39;00m error_to_raise\n\u001b[32m    775\u001b[39m output = _format_output(content, artifact, tool_call_id, \u001b[38;5;28mself\u001b[39m.name, status)\n\u001b[32m    776\u001b[39m run_manager.on_tool_end(output, color=color, name=\u001b[38;5;28mself\u001b[39m.name, **kwargs)\n",
      "\u001b[36mFile \u001b[39m\u001b[32mc:\\Users\\USER\\AppData\\Local\\pypoetry\\Cache\\virtualenvs\\langgraph-env-_XZusGZJ-py3.11\\Lib\\site-packages\\langchain_core\\tools\\base.py:743\u001b[39m, in \u001b[36mBaseTool.run\u001b[39m\u001b[34m(self, tool_input, verbose, start_color, color, callbacks, tags, metadata, run_name, run_id, config, tool_call_id, **kwargs)\u001b[39m\n\u001b[32m    741\u001b[39m     \u001b[38;5;28;01mif\u001b[39;00m config_param := _get_runnable_config_param(\u001b[38;5;28mself\u001b[39m._run):\n\u001b[32m    742\u001b[39m         tool_kwargs = tool_kwargs | {config_param: config}\n\u001b[32m--> \u001b[39m\u001b[32m743\u001b[39m     response = \u001b[43mcontext\u001b[49m\u001b[43m.\u001b[49m\u001b[43mrun\u001b[49m\u001b[43m(\u001b[49m\u001b[38;5;28;43mself\u001b[39;49m\u001b[43m.\u001b[49m\u001b[43m_run\u001b[49m\u001b[43m,\u001b[49m\u001b[43m \u001b[49m\u001b[43m*\u001b[49m\u001b[43mtool_args\u001b[49m\u001b[43m,\u001b[49m\u001b[43m \u001b[49m\u001b[43m*\u001b[49m\u001b[43m*\u001b[49m\u001b[43mtool_kwargs\u001b[49m\u001b[43m)\u001b[49m\n\u001b[32m    744\u001b[39m \u001b[38;5;28;01mif\u001b[39;00m \u001b[38;5;28mself\u001b[39m.response_format == \u001b[33m\"\u001b[39m\u001b[33mcontent_and_artifact\u001b[39m\u001b[33m\"\u001b[39m:\n\u001b[32m    745\u001b[39m     \u001b[38;5;28;01mif\u001b[39;00m \u001b[38;5;129;01mnot\u001b[39;00m \u001b[38;5;28misinstance\u001b[39m(response, \u001b[38;5;28mtuple\u001b[39m) \u001b[38;5;129;01mor\u001b[39;00m \u001b[38;5;28mlen\u001b[39m(response) != \u001b[32m2\u001b[39m:\n",
      "\u001b[36mFile \u001b[39m\u001b[32mc:\\Users\\USER\\AppData\\Local\\pypoetry\\Cache\\virtualenvs\\langgraph-env-_XZusGZJ-py3.11\\Lib\\site-packages\\langchain_core\\tools\\structured.py:93\u001b[39m, in \u001b[36mStructuredTool._run\u001b[39m\u001b[34m(self, config, run_manager, *args, **kwargs)\u001b[39m\n\u001b[32m     91\u001b[39m     \u001b[38;5;28;01mif\u001b[39;00m config_param := _get_runnable_config_param(\u001b[38;5;28mself\u001b[39m.func):\n\u001b[32m     92\u001b[39m         kwargs[config_param] = config\n\u001b[32m---> \u001b[39m\u001b[32m93\u001b[39m     \u001b[38;5;28;01mreturn\u001b[39;00m \u001b[38;5;28;43mself\u001b[39;49m\u001b[43m.\u001b[49m\u001b[43mfunc\u001b[49m\u001b[43m(\u001b[49m\u001b[43m*\u001b[49m\u001b[43margs\u001b[49m\u001b[43m,\u001b[49m\u001b[43m \u001b[49m\u001b[43m*\u001b[49m\u001b[43m*\u001b[49m\u001b[43mkwargs\u001b[49m\u001b[43m)\u001b[49m\n\u001b[32m     94\u001b[39m msg = \u001b[33m\"\u001b[39m\u001b[33mStructuredTool does not support sync invocation.\u001b[39m\u001b[33m\"\u001b[39m\n\u001b[32m     95\u001b[39m \u001b[38;5;28;01mraise\u001b[39;00m \u001b[38;5;167;01mNotImplementedError\u001b[39;00m(msg)\n",
      "\u001b[36mCell\u001b[39m\u001b[36m \u001b[39m\u001b[32mIn[14]\u001b[39m\u001b[32m, line 14\u001b[39m, in \u001b[36msearch_web\u001b[39m\u001b[34m(query)\u001b[39m\n\u001b[32m     11\u001b[39m tavily_search = TavilySearchResults(max_results=\u001b[32m2\u001b[39m)\n\u001b[32m     12\u001b[39m docs = tavily_search.invoke(query)\n\u001b[32m---> \u001b[39m\u001b[32m14\u001b[39m formatted_docs = \u001b[33m\"\u001b[39m\u001b[38;5;130;01m\\n\u001b[39;00m\u001b[33m---\u001b[39m\u001b[38;5;130;01m\\n\u001b[39;00m\u001b[33m\"\u001b[39m.join(\u001b[43m[\u001b[49m\n\u001b[32m     15\u001b[39m \u001b[43m    \u001b[49m\u001b[33;43mf\u001b[39;49m\u001b[33;43m'\u001b[39;49m\u001b[33;43m<Document href=\u001b[39;49m\u001b[33;43m\"\u001b[39;49m\u001b[38;5;132;43;01m{\u001b[39;49;00m\u001b[43mdoc\u001b[49m\u001b[43m[\u001b[49m\u001b[33;43m\"\u001b[39;49m\u001b[33;43murl\u001b[39;49m\u001b[33;43m\"\u001b[39;49m\u001b[43m]\u001b[49m\u001b[38;5;132;43;01m}\u001b[39;49;00m\u001b[33;43m\"\u001b[39;49m\u001b[33;43m/>\u001b[39;49m\u001b[38;5;130;43;01m\\n\u001b[39;49;00m\u001b[38;5;132;43;01m{\u001b[39;49;00m\u001b[43mdoc\u001b[49m\u001b[43m[\u001b[49m\u001b[33;43m\"\u001b[39;49m\u001b[33;43mcontent\u001b[39;49m\u001b[33;43m\"\u001b[39;49m\u001b[43m]\u001b[49m\u001b[38;5;132;43;01m}\u001b[39;49;00m\u001b[38;5;130;43;01m\\n\u001b[39;49;00m\u001b[33;43m</Document>\u001b[39;49m\u001b[33;43m'\u001b[39;49m\n\u001b[32m     16\u001b[39m \u001b[43m    \u001b[49m\u001b[38;5;28;43;01mfor\u001b[39;49;00m\u001b[43m \u001b[49m\u001b[43mdoc\u001b[49m\u001b[43m \u001b[49m\u001b[38;5;129;43;01min\u001b[39;49;00m\u001b[43m \u001b[49m\u001b[43mdocs\u001b[49m\n\u001b[32m     17\u001b[39m \u001b[43m    \u001b[49m\u001b[43m]\u001b[49m)\n\u001b[32m     19\u001b[39m \u001b[38;5;28;01mif\u001b[39;00m \u001b[38;5;28mlen\u001b[39m(formatted_docs) > \u001b[32m0\u001b[39m:\n\u001b[32m     20\u001b[39m     \u001b[38;5;28;01mreturn\u001b[39;00m formatted_docs\n",
      "\u001b[36mCell\u001b[39m\u001b[36m \u001b[39m\u001b[32mIn[14]\u001b[39m\u001b[32m, line 15\u001b[39m, in \u001b[36m<listcomp>\u001b[39m\u001b[34m(.0)\u001b[39m\n\u001b[32m     11\u001b[39m tavily_search = TavilySearchResults(max_results=\u001b[32m2\u001b[39m)\n\u001b[32m     12\u001b[39m docs = tavily_search.invoke(query)\n\u001b[32m     14\u001b[39m formatted_docs = \u001b[33m\"\u001b[39m\u001b[38;5;130;01m\\n\u001b[39;00m\u001b[33m---\u001b[39m\u001b[38;5;130;01m\\n\u001b[39;00m\u001b[33m\"\u001b[39m.join([\n\u001b[32m---> \u001b[39m\u001b[32m15\u001b[39m     \u001b[33mf\u001b[39m\u001b[33m'\u001b[39m\u001b[33m<Document href=\u001b[39m\u001b[33m\"\u001b[39m\u001b[38;5;132;01m{\u001b[39;00m\u001b[43mdoc\u001b[49m\u001b[43m[\u001b[49m\u001b[33;43m\"\u001b[39;49m\u001b[33;43murl\u001b[39;49m\u001b[33;43m\"\u001b[39;49m\u001b[43m]\u001b[49m\u001b[38;5;132;01m}\u001b[39;00m\u001b[33m\"\u001b[39m\u001b[33m/>\u001b[39m\u001b[38;5;130;01m\\n\u001b[39;00m\u001b[38;5;132;01m{\u001b[39;00mdoc[\u001b[33m\"\u001b[39m\u001b[33mcontent\u001b[39m\u001b[33m\"\u001b[39m]\u001b[38;5;132;01m}\u001b[39;00m\u001b[38;5;130;01m\\n\u001b[39;00m\u001b[33m</Document>\u001b[39m\u001b[33m'\u001b[39m\n\u001b[32m     16\u001b[39m     \u001b[38;5;28;01mfor\u001b[39;00m doc \u001b[38;5;129;01min\u001b[39;00m docs\n\u001b[32m     17\u001b[39m     ])\n\u001b[32m     19\u001b[39m \u001b[38;5;28;01mif\u001b[39;00m \u001b[38;5;28mlen\u001b[39m(formatted_docs) > \u001b[32m0\u001b[39m:\n\u001b[32m     20\u001b[39m     \u001b[38;5;28;01mreturn\u001b[39;00m formatted_docs\n",
      "\u001b[31mTypeError\u001b[39m: string indices must be integers, not 'str'"
     ]
    }
   ],
   "source": [
    "query = \"스테이크와 어울리는 와인을 추천해 주세요.\"\n",
    "search_result = search_web.invoke(query)\n",
    "\n",
    "print(search_result)"
   ]
  },
  {
   "cell_type": "code",
   "execution_count": null,
   "id": "6c4c9b2e",
   "metadata": {},
   "outputs": [],
   "source": []
  }
 ],
 "metadata": {
  "kernelspec": {
   "display_name": "langgraph-env-_XZusGZJ-py3.11",
   "language": "python",
   "name": "python3"
  },
  "language_info": {
   "codemirror_mode": {
    "name": "ipython",
    "version": 3
   },
   "file_extension": ".py",
   "mimetype": "text/x-python",
   "name": "python",
   "nbconvert_exporter": "python",
   "pygments_lexer": "ipython3",
   "version": "3.11.9"
  }
 },
 "nbformat": 4,
 "nbformat_minor": 5
}
