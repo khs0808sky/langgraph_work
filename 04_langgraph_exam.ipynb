{
 "cells": [
  {
   "cell_type": "code",
   "execution_count": 1,
   "id": "3e887af9",
   "metadata": {},
   "outputs": [
    {
     "data": {
      "text/plain": [
       "True"
      ]
     },
     "execution_count": 1,
     "metadata": {},
     "output_type": "execute_result"
    }
   ],
   "source": [
    "from dotenv import load_dotenv\n",
    "load_dotenv()"
   ]
  },
  {
   "cell_type": "code",
   "execution_count": 3,
   "id": "9c79ace2",
   "metadata": {},
   "outputs": [
    {
     "name": "stderr",
     "output_type": "stream",
     "text": [
      "Failed to send telemetry event ClientStartEvent: capture() takes 1 positional argument but 3 were given\n",
      "Failed to send telemetry event ClientCreateCollectionEvent: capture() takes 1 positional argument but 3 were given\n",
      "Failed to send telemetry event CollectionQueryEvent: capture() takes 1 positional argument but 3 were given\n"
     ]
    },
    {
     "name": "stdout",
     "output_type": "stream",
     "text": [
      "검색 결과: 2개\n"
     ]
    }
   ],
   "source": [
    "from langchain_chroma import Chroma\n",
    "from langchain_openai import OpenAIEmbeddings\n",
    "\n",
    "embeddings_model = OpenAIEmbeddings(\n",
    "    model=\"text-embedding-3-small\",\n",
    ")\n",
    "\n",
    "menu_db = Chroma(\n",
    "    embedding_function=embeddings_model,\n",
    "    collection_name=\"restaurant_menu\",\n",
    "    persist_directory=\"./chroma_db\",\n",
    ")\n",
    "\n",
    "menu_retriever = menu_db.as_retriever(\n",
    "    search_kwargs={'k': 2}\n",
    ")\n",
    "\n",
    "query = \"시그너처 스테이크의 가격과 특징은 무엇인가요?\"\n",
    "docs = menu_retriever.invoke(query)\n",
    "print(f\"검색 결과: {len(docs)}개\")\n"
   ]
  },
  {
   "cell_type": "code",
   "execution_count": 5,
   "id": "7c8f9c99",
   "metadata": {},
   "outputs": [
    {
     "name": "stderr",
     "output_type": "stream",
     "text": [
      "Failed to send telemetry event ClientStartEvent: capture() takes 1 positional argument but 3 were given\n",
      "Failed to send telemetry event ClientCreateCollectionEvent: capture() takes 1 positional argument but 3 were given\n",
      "Failed to send telemetry event CollectionQueryEvent: capture() takes 1 positional argument but 3 were given\n"
     ]
    },
    {
     "name": "stdout",
     "output_type": "stream",
     "text": [
      "검색 결과: 2개\n"
     ]
    }
   ],
   "source": [
    "wine_db = Chroma(\n",
    "    embedding_function=embeddings_model,\n",
    "    collection_name=\"restaurant_wine\",\n",
    "    persist_directory=\"./chroma_db\",\n",
    ")\n",
    "\n",
    "menu_retriever = wine_db.as_retriever(\n",
    "    search_kwargs={'k': 2}\n",
    ")\n",
    "\n",
    "query = \"스테이크와 어울리는 와인은 추천해 주세요?\"\n",
    "docs = menu_retriever.invoke(query)\n",
    "print(f\"검색 결과: {len(docs)}개\")\n"
   ]
  },
  {
   "cell_type": "code",
   "execution_count": 6,
   "id": "b67b04ed",
   "metadata": {},
   "outputs": [],
   "source": [
    "from langgraph.graph import MessagesState\n",
    "from typing import List\n",
    "from langchain_core.documents import Document\n",
    "\n",
    "class GraphState(MessagesState):\n",
    "    # messages 키를 기본적으로 제공\n",
    "    documents: List[Document]\n",
    "    grade: float\n",
    "    num_generation: int\n",
    "        "
   ]
  },
  {
   "cell_type": "code",
   "execution_count": 7,
   "id": "1b4c546c",
   "metadata": {},
   "outputs": [
    {
     "name": "stdout",
     "output_type": "stream",
     "text": [
      "제공된 메뉴에는 채식주의자를 위한 옵션이 포함되어 있지 않습니다. 하지만, 일반적으로 채식주의자를 위한 메뉴는 신선한 채소, 곡물, 콩류, 아보카도 등을 활용한 샐러드, 스프, 또는 채소 기반의 요리가 포함될 수 있습니다. 만약 다른 메뉴가 있다면, 그 중에서 채식 옵션을 선택하는 것이 좋습니다. 추가적인 메뉴가 필요하다면 말씀해 주세요!\n"
     ]
    }
   ],
   "source": [
    "from langchain_openai import ChatOpenAI\n",
    "from langchain_core.prompts import ChatPromptTemplate\n",
    "from langchain_core.output_parsers import StrOutputParser\n",
    "from langchain_core.runnables import RunnablePassthrough\n",
    "\n",
    "# LLM 모델 \n",
    "llm = ChatOpenAI(model=\"gpt-4o-mini\")\n",
    "\n",
    "# RAG 체인 구성\n",
    "def format_docs(docs):\n",
    "    return \"\\n\\n\".join(doc.page_content for doc in docs)\n",
    "\n",
    "system = \"\"\"\n",
    "You are a helpful assistant. Use the following context to answer the user's question:\n",
    "\n",
    "[Context]\n",
    "{context}\n",
    "\"\"\"\n",
    "\n",
    "prompt = ChatPromptTemplate.from_messages([\n",
    "    (\"system\", system),\n",
    "    (\"human\", \"{question}\")\n",
    "])\n",
    "\n",
    "# 검색기 정의\n",
    "retriever = menu_db.as_retriever(\n",
    "    search_kwargs={\"k\": 2}\n",
    ")\n",
    "\n",
    "# RAG 체인 구성\n",
    "rag_chain = (\n",
    "    {\"context\": retriever | format_docs, \"question\": RunnablePassthrough()}\n",
    "    | prompt\n",
    "    | llm\n",
    "    | StrOutputParser()\n",
    ")\n",
    "\n",
    "# RAG 체인 실행\n",
    "query = \"채식주의자를 위한 메뉴를 추천해주세요.\"\n",
    "response = rag_chain.invoke(query)\n",
    "\n",
    "# 답변 출력\n",
    "print(response)"
   ]
  },
  {
   "cell_type": "code",
   "execution_count": 8,
   "id": "254a069c",
   "metadata": {},
   "outputs": [],
   "source": [
    "from langchain_core.messages import HumanMessage, AIMessage\n",
    "\n",
    "# RAG 수행 함수 정의\n",
    "def retrieve_and_respond(state: GraphState):\n",
    "    last_human_message = state['messages'][-1]\n",
    "    \n",
    "    # HumanMessage 객체의 content 속성에 접근\n",
    "    query = last_human_message.content\n",
    "    \n",
    "    # 문서 검색\n",
    "    retrieved_docs = retriever.invoke(query)\n",
    "    \n",
    "    # 응답 생성\n",
    "    response = rag_chain.invoke(query)\n",
    "    \n",
    "    # 검색된 문서와 응답을 상태에 저장\n",
    "    return {\n",
    "        \"messages\": [AIMessage(content=response)],\n",
    "        \"documents\": retrieved_docs\n",
    "    }"
   ]
  },
  {
   "cell_type": "code",
   "execution_count": 9,
   "id": "667c05e1",
   "metadata": {},
   "outputs": [],
   "source": [
    "from pydantic import BaseModel, Field\n",
    "\n",
    "class GradeResponse(BaseModel):\n",
    "    \"A score for answers\"\n",
    "    score: float = Field(..., ge=0, le=1, description=\"A score from 0 to 1, where 1 is perfect\")\n",
    "    explanation: str = Field(..., description=\"An explanation for the given score\")\n",
    "\n",
    "# 답변 품질 평가 함수\n",
    "def grade_answer(state: GraphState):\n",
    "    messages = state['messages']\n",
    "    question = messages[-2].content\n",
    "    answer = messages[-1].content\n",
    "    context = format_docs(state['documents'])\n",
    "\n",
    "    grading_system = \"\"\"You are an expert grader. \n",
    "    Grade the following answer based on its relevance and accuracy to the question, considering the given context. \n",
    "    Provide a score from 0 to 1, where 1 is perfect, along with an explanation.\"\"\"\n",
    "\n",
    "    grading_prompt = ChatPromptTemplate.from_messages([\n",
    "        (\"system\", grading_system),\n",
    "        (\"human\", \"[Question]\\n{question}\\n\\n[Context]\\n{context}\\n\\n[Answer]\\n{answer}\\n\\n[Grade]\\n\")\n",
    "    ])\n",
    "    \n",
    "    grading_chain = grading_prompt | llm.with_structured_output(schema=GradeResponse)\n",
    "    \n",
    "    grade_response = grading_chain.invoke({\n",
    "        \"question\": question,\n",
    "        \"context\": context,\n",
    "        \"answer\": answer\n",
    "    })\n",
    "\n",
    "    # 답변 생성 횟수를 증가 \n",
    "    num_generation = state.get('num_generation', 0)\n",
    "    num_generation += 1\n",
    "    \n",
    "    return {\"grade\": grade_response.score, \"num_generation\": num_generation}"
   ]
  },
  {
   "cell_type": "code",
   "execution_count": 10,
   "id": "e9054e50",
   "metadata": {},
   "outputs": [],
   "source": [
    "from typing import Literal\n",
    "\n",
    "\n",
    "def should_retry(state: GraphState) -> Literal[\"retrieve_and_respond\", \"generate\"]:\n",
    "    print(\"----GRADTING---\")\n",
    "    print(\"Grade Score: \", state[\"grade\"])\n",
    "\n",
    "    # 답변 생성 횟수가 3회 이상이면 \"generate\"를 반환\n",
    "    if state[\"num_generation\"] > 2: \n",
    "        return \"generate\"    \n",
    "    \n",
    "    # 답변 품질 평가점수가 0.7 미만이면 RAG 체인을 다시 실행 \n",
    "    if state[\"grade\"] < 0.7:  \n",
    "        return \"retrieve_and_respond\"\n",
    "    else:\n",
    "        return \"generate\""
   ]
  },
  {
   "cell_type": "code",
   "execution_count": 12,
   "id": "b11f3793",
   "metadata": {},
   "outputs": [
    {
     "data": {
      "image/png": "[encoded data removed]",
      "text/plain": [
       "<IPython.core.display.Image object>"
      ]
     },
     "metadata": {},
     "output_type": "display_data"
    }
   ],
   "source": [
    "from langgraph.graph import StateGraph, START, END\n",
    "from typing import TypedDict\n",
    "from IPython.display import Image, display\n",
    "\n",
    "# 그래프 설정\n",
    "builder = StateGraph(GraphState)\n",
    "builder.add_node(\"retrieve_and_respond\", retrieve_and_respond)\n",
    "builder.add_node(\"grade_answer\", grade_answer)\n",
    "\n",
    "builder.add_edge(START, \"retrieve_and_respond\")\n",
    "builder.add_edge(\"retrieve_and_respond\", \"grade_answer\")\n",
    "builder.add_conditional_edges(\n",
    "    \"grade_answer\",\n",
    "    should_retry,\n",
    "    {\n",
    "        \"retrieve_and_respond\": \"retrieve_and_respond\",\n",
    "        \"generate\": END\n",
    "    }\n",
    ")\n",
    "\n",
    "# 그래프 컴파일\n",
    "graph = builder.compile()\n",
    "\n",
    "# 그래프 시각화\n",
    "display(Image(graph.get_graph().draw_mermaid_png()))"
   ]
  },
  {
   "cell_type": "code",
   "execution_count": 17,
   "id": "a3cf89f8",
   "metadata": {},
   "outputs": [
    {
     "name": "stdout",
     "output_type": "stream",
     "text": [
      "----GRADTING---\n",
      "Grade Score:  0.0\n",
      "----GRADTING---\n",
      "Grade Score:  1.0\n",
      "최종 상태: {'messages': [HumanMessage(content='랭그래프를 잘하는 방법을 추천해주세요.', additional_kwargs={}, response_metadata={}, id='74f98278-aedb-4eb3-b208-f42fe0247fcd'), AIMessage(content='랭그래프를 잘하는 방법에는 몇 가지 팁이 있습니다:\\n\\n1. **기본 개념 이해**: 랭그래프의 기본 개념과 동작 방식을 충분히 이해하세요. 노드, 엣지, 그래프의 종류(유향 그래프, 무향 그래프 등)에 대해 알아보세요.\\n\\n2. **자료구조 연습**: 그래프를 구현하기 위해 필요한 자료구조(인접 리스트, 인접 행렬 등)를 연습해보세요. 각 자료구조의 장단점을 이해하고, 상황에 맞게 사용할 수 있어야 합니다.\\n\\n3. **알고리즘 학습**: 그래프 탐색 알고리즘(DFS, BFS), 최단 경로 알고리즘(Dijkstra, Bellman-Ford), 최소 신장 트리(Kruskal, Prim) 등 주요 알고리즘을 학습하고, 그 원리를 이해하세요.\\n\\n4. **문제 풀이**: 다양한 문제를 풀어보세요. LeetCode, HackerRank, Codeforces 등에서 그래프 관련 문제를 찾아 풀어보는 것이 좋습니다. 여러 가지 유형의 문제를 풀면서 경험을 쌓아보세요.\\n\\n5. **시각화**: 그래프를 시각적으로 표현해보세요. 직접 그려보거나, 온라인 도구를 사용하여 그래프의 구조를 시각화하면 이해하는 데 도움이 됩니다.\\n\\n6. **복잡도 분석**: 알고리즘의 시간 복잡도와 공간 복잡도를 분석해보세요. 이는 최적의 알고리즘을 선택하는 데 중요합니다.\\n\\n7. **커뮤니티 참여**: 프로그래밍 커뮤니티나 포럼에 참여하여 다른 사람들과 문제를 논의하고, 다양한 접근 방식을 배워보세요.\\n\\n8. **복습 및 지속적인 학습**: 그래프 관련 기술은 지속적으로 발전하므로, 새로운 알고리즘이나 기술을 정기적으로 학습하고 복습하는 것이 중요합니다.\\n\\n이러한 방법들을 통해 랭그래프에 대한 이해도를 높이고, 문제 해결 능력을 기를 수 있습니다.', additional_kwargs={}, response_metadata={}, id='fd99f904-66e9-4e1e-85b7-b4c4c6de34f5'), AIMessage(content='위의 팁들은 랭그래프를 잘하는 데 매우 유용한 방법들입니다. 각 항목을 조금 더 구체적으로 설명해드리겠습니다.\\n\\n1. **기본 개념 이해**: 그래프의 기본 요소인 노드(정점)와 엣지(간선)의 개념을 명확히 하고, 그래프가 어떻게 구성되는지 이해하는 것이 첫걸음입니다. 유향 그래프와 무향 그래프의 차이를 알고, 그래프의 다양한 형태(예: 트리, 사이클 등)를 파악하세요.\\n\\n2. **자료구조 연습**: 그래프를 표현하는 데 있어 인접 리스트와 인접 행렬은 두 가지 주요 자료구조입니다. 인접 리스트는 메모리 효율이 좋고, 인접 행렬은 구현이 간단하지만 공간을 많이 차지할 수 있습니다. 각각의 장단점을 비교하고, 실습을 통해 익혀보세요.\\n\\n3. **알고리즘 학습**: 그래프를 탐색하는 DFS(깊이 우선 탐색)와 BFS(너비 우선 탐색)는 기본적인 알고리즘입니다. 또한, 최단 경로를 찾는 Dijkstra 알고리즘과 Bellman-Ford 알고리즘, 최소 신장 트리를 생성하는 Kruskal과 Prim과 같은 알고리즘도 꼭 학습하세요.\\n\\n4. **문제 풀이**: 다양한 플랫폼에서 그래프 관련 문제를 풀어보는 것은 매우 중요합니다. 문제를 풀면서 자신만의 접근 방식을 개발하고, 다양한 문제 유형을 접하는 것이 도움이 됩니다.\\n\\n5. **시각화**: 그래프의 구조를 시각적으로 표현하는 것은 이해하는 데 큰 도움이 됩니다. 도형을 그려보거나, 온라인 그래프 시각화 도구를 사용하여 복잡한 구조를 쉽게 파악할 수 있습니다.\\n\\n6. **복잡도 분석**: 알고리즘의 성능을 평가하기 위해 시간 복잡도와 공간 복잡도를 분석하는 것이 중요합니다. 이를 통해 더 효율적인 알고리즘을 선택할 수 있는 능력을 기르게 됩니다.\\n\\n7. **커뮤니티 참여**: 온라인 포럼이나 프로그래밍 커뮤니티에서 다른 사람들과 소통하며 문제를 논의하는 것은 새로운 시각을 배우고, 더 깊이 있는 이해를 돕습니다.\\n\\n8. **복습 및 지속적인 학습**: 그래프 알고리즘과 기술은 시간이 지나면서 발전하므로, 최신 정보와 기술을 정기적으로 업데이트하고 복습하는 것이 중요합니다.\\n\\n이러한 방법들을 통해 랭그래프에 대한 이해도를 높이고, 문제 해결 능력을 기를 수 있습니다. 지속적인 연습과 학습이 필요합니다!', additional_kwargs={}, response_metadata={}, id='96e9f0d1-0a14-4f09-ad52-16f28281eac7')], 'documents': [Document(metadata={'menu_name': '버섯 크림 수프', 'menu_number': 4, 'source': './data/restaurant_menu.txt'}, page_content='4. 버섯 크림 수프\\n   • 가격: ₩10,000\\n   • 주요 식재료: 양송이버섯, 표고버섯, 생크림, 트러플 오일\\n   • 설명: 양송이버섯과 표고버섯을 오랜 시간 정성스레 끓여 만든 크림 수프입니다. 부드러운 텍스처와 깊은 버섯 향이 특징이며, 최상급 트러플 오일을 살짝 뿌려 고급스러운 향을 더했습니다. 파슬리를 곱게 다져 고명으로 올려 제공됩니다.'), Document(metadata={'menu_name': '안심 스테이크 샐러드', 'menu_number': 8, 'source': './data/restaurant_menu.txt'}, page_content='8. 안심 스테이크 샐러드\\n   • 가격: ₩26,000\\n   • 주요 식재료: 소고기 안심, 루꼴라, 체리 토마토, 발사믹 글레이즈\\n   • 설명: 부드러운 안심 스테이크를 얇게 슬라이스하여 신선한 루꼴라 위에 올린 메인 요리 샐러드입니다. 체리 토마토와 파마산 치즈 플레이크로 풍미를 더하고, 발사믹 글레이즈로 마무리하여 고기의 풍미를 한층 끌어올렸습니다.')], 'grade': 1.0, 'num_generation': 2}\n"
     ]
    }
   ],
   "source": [
    "# 초기 상태\n",
    "initial_state = {\n",
    "    \"messages\": [HumanMessage(content=\"랭그래프를 잘하는 방법을 추천해주세요.\")],\n",
    "}\n",
    "\n",
    "# 그래프 실행 \n",
    "final_state = graph.invoke(initial_state)\n",
    "\n",
    "# 최종 상태 출력\n",
    "print(\"최종 상태:\", final_state)"
   ]
  },
  {
   "cell_type": "code",
   "execution_count": null,
   "id": "0bd18f5b",
   "metadata": {},
   "outputs": [],
   "source": []
  }
 ],
 "metadata": {
  "kernelspec": {
   "display_name": "langgraph-env-_XZusGZJ-py3.11",
   "language": "python",
   "name": "python3"
  },
  "language_info": {
   "codemirror_mode": {
    "name": "ipython",
    "version": 3
   },
   "file_extension": ".py",
   "mimetype": "text/x-python",
   "name": "python",
   "nbconvert_exporter": "python",
   "pygments_lexer": "ipython3",
   "version": "3.11.9"
  }
 },
 "nbformat": 4,
 "nbformat_minor": 5
}
