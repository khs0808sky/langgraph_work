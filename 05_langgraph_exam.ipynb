{
 "cells": [
  {
   "cell_type": "code",
   "execution_count": 2,
   "id": "58236c0a",
   "metadata": {},
   "outputs": [
    {
     "data": {
      "text/plain": [
       "True"
      ]
     },
     "execution_count": 2,
     "metadata": {},
     "output_type": "execute_result"
    }
   ],
   "source": [
    "from dotenv import load_dotenv\n",
    "from textwrap import dedent\n",
    "\n",
    "load_dotenv()"
   ]
  },
  {
   "cell_type": "code",
   "execution_count": 4,
   "id": "531255b5",
   "metadata": {},
   "outputs": [
    {
     "name": "stderr",
     "output_type": "stream",
     "text": [
      "Failed to send telemetry event ClientStartEvent: capture() takes 1 positional argument but 3 were given\n",
      "Failed to send telemetry event ClientCreateCollectionEvent: capture() takes 1 positional argument but 3 were given\n"
     ]
    }
   ],
   "source": [
    "from langchain_chroma import Chroma\n",
    "from langchain_openai import OpenAIEmbeddings\n",
    "\n",
    "embeddings_model = OpenAIEmbeddings(\n",
    "    model=\"text-embedding-3-small\",\n",
    ")\n",
    "\n",
    "menu_db = Chroma(\n",
    "    embedding_function=embeddings_model,\n",
    "    collection_name=\"restaurant_menu\",\n",
    "    persist_directory=\"./chroma_db\",\n",
    ")"
   ]
  },
  {
   "cell_type": "code",
   "execution_count": 5,
   "id": "0af7332d",
   "metadata": {},
   "outputs": [],
   "source": [
    "from langchain_core.tools import tool\n",
    "from typing import List\n",
    "\n",
    "@tool\n",
    "def search_menu(query: str) -> List[str]:\n",
    "    \"\"\"\n",
    "    레스토랑 메뉴에서 정보를 검색합니다.\n",
    "    \"\"\"\n",
    "\n",
    "    docs = menu_db.similarity_search(query, k=2)\n",
    "\n",
    "    formatted_docs = \"\\n---\\n\".join([\n",
    "        f'<Document href=\"{doc.metadata[\"source\"]}\"/>\\n{doc.page_content}\\n</Document>'\n",
    "        for doc in docs\n",
    "        ])\n",
    "       \n",
    "    if len(formatted_docs) > 0:\n",
    "        return formatted_docs\n",
    "    \n",
    "    return \"관련 정보를 찾을 수 없습니다.\"  \n",
    "\n"
   ]
  },
  {
   "cell_type": "code",
   "execution_count": 7,
   "id": "26b28555",
   "metadata": {},
   "outputs": [],
   "source": [
    "from langchain_community.tools import TavilySearchResults\n",
    "\n",
    "@tool\n",
    "def search_web(query: str) -> str:\n",
    "    \"\"\" \n",
    "    데이터베이스에 존재하지 않는 정보또는 최신 정보를 인터넷으로 검색합니다.\n",
    "    \"\"\"\n",
    "\n",
    "    tavily_search = TavilySearchResults(max_results=3)\n",
    "    docs = tavily_search.invoke(query)\n",
    "\n",
    "    formatted_docs = \"\\n---\\n\".join([\n",
    "        f'<Document href=\"{doc[\"url\"]}\"/>\\n{doc[\"content\"]}\\n</Document>'\n",
    "        for doc in docs\n",
    "        ])\n",
    "       \n",
    "    if len(formatted_docs) > 0:\n",
    "        return formatted_docs\n",
    "    \n",
    "    return \"관련 정보를 찾을 수 없습니다.\" \n",
    "\n"
   ]
  },
  {
   "cell_type": "code",
   "execution_count": 8,
   "id": "21c73eb1",
   "metadata": {},
   "outputs": [],
   "source": [
    "from langchain_openai import ChatOpenAI\n",
    "\n",
    "llm = ChatOpenAI(model=\"gpt-4o-mini\", streaming=True)\n",
    "\n",
    "tools = [search_menu, search_web]\n",
    "\n",
    "llm_with_tools = llm.bind_tools(tools=tools)"
   ]
  },
  {
   "cell_type": "code",
   "execution_count": 9,
   "id": "0a0929e7",
   "metadata": {},
   "outputs": [
    {
     "name": "stdout",
     "output_type": "stream",
     "text": [
      "content='' additional_kwargs={'tool_calls': [{'index': 0, 'id': 'call_r7nsrHroGEOhxepWRJH7kP8r', 'function': {'arguments': '{\"query\":\"스테이크\"}', 'name': 'search_menu'}, 'type': 'function'}]} response_metadata={'finish_reason': 'tool_calls', 'model_name': 'gpt-4o-mini-2024-07-18', 'system_fingerprint': 'fp_e665f7564b'} id='run--d6cee01a-c2f2-465e-ae21-1b0b8ea7f03f-0' tool_calls=[{'name': 'search_menu', 'args': {'query': '스테이크'}, 'id': 'call_r7nsrHroGEOhxepWRJH7kP8r', 'type': 'tool_call'}]\n"
     ]
    }
   ],
   "source": [
    "from langchain_core.messages import AIMessage, HumanMessage\n",
    "\n",
    "tool_call = llm_with_tools.invoke([HumanMessage(\"스테이크 메뉴의 가격은 얼마인가요?\")])\n",
    "\n",
    "print(tool_call)"
   ]
  },
  {
   "cell_type": "code",
   "execution_count": 10,
   "id": "ea5292e7",
   "metadata": {},
   "outputs": [
    {
     "name": "stdout",
     "output_type": "stream",
     "text": [
      "content='' additional_kwargs={'tool_calls': [{'index': 0, 'id': 'call_SxSIQ6e0O94SN1Tcn6GYKMCV', 'function': {'arguments': '{\"query\":\"Langgraph\"}', 'name': 'search_web'}, 'type': 'function'}]} response_metadata={'finish_reason': 'tool_calls', 'model_name': 'gpt-4o-mini-2024-07-18', 'system_fingerprint': 'fp_e665f7564b'} id='run--0001e78b-9896-489c-a265-8e765786c34b-0' tool_calls=[{'name': 'search_web', 'args': {'query': 'Langgraph'}, 'id': 'call_SxSIQ6e0O94SN1Tcn6GYKMCV', 'type': 'tool_call'}]\n"
     ]
    }
   ],
   "source": [
    "tool_call = llm_with_tools.invoke([HumanMessage(\"Langgraph는 무엇인가요?\")])\n",
    "\n",
    "print(tool_call)"
   ]
  },
  {
   "cell_type": "code",
   "execution_count": 11,
   "id": "0a923fe9",
   "metadata": {},
   "outputs": [
    {
     "name": "stdout",
     "output_type": "stream",
     "text": [
      "content='3 + 4는 7입니다.' additional_kwargs={} response_metadata={'finish_reason': 'stop', 'model_name': 'gpt-4o-mini-2024-07-18', 'system_fingerprint': 'fp_e665f7564b'} id='run--7b054ab2-b65b-4abe-980c-59c321949248-0'\n"
     ]
    }
   ],
   "source": [
    "tool_call = llm_with_tools.invoke([HumanMessage(\"3+4는 얼마인가요?\")])\n",
    "\n",
    "print(tool_call)"
   ]
  },
  {
   "cell_type": "code",
   "execution_count": 12,
   "id": "39abac58",
   "metadata": {},
   "outputs": [],
   "source": [
    "# 도구노드(Tool Node) : LLM 이 요청한 (tool)  호출을 실행하는 역할을 처리\n",
    "from langgraph.prebuilt import ToolNode\n",
    "\n",
    "tool_node = ToolNode(tools=tools)"
   ]
  },
  {
   "cell_type": "code",
   "execution_count": 14,
   "id": "f225da43",
   "metadata": {},
   "outputs": [
    {
     "data": {
      "text/plain": [
       "AIMessage(content='', additional_kwargs={'tool_calls': [{'index': 0, 'id': 'call_e6CJI1nFeArNeVhtqMaxMWFD', 'function': {'arguments': '{\"query\":\"스테이크\"}', 'name': 'search_menu'}, 'type': 'function'}]}, response_metadata={'finish_reason': 'tool_calls', 'model_name': 'gpt-4o-mini-2024-07-18', 'system_fingerprint': 'fp_e665f7564b'}, id='run--c5835429-c6ad-4eaf-9239-0b33ccf17026-0', tool_calls=[{'name': 'search_menu', 'args': {'query': '스테이크'}, 'id': 'call_e6CJI1nFeArNeVhtqMaxMWFD', 'type': 'tool_call'}])"
      ]
     },
     "execution_count": 14,
     "metadata": {},
     "output_type": "execute_result"
    }
   ],
   "source": [
    "tool_call = llm_with_tools.invoke([HumanMessage(\"스테이크 메뉴의 가격은 얼마인가요?\")])\n",
    "tool_call"
   ]
  },
  {
   "cell_type": "code",
   "execution_count": 17,
   "id": "e75e529f",
   "metadata": {},
   "outputs": [
    {
     "name": "stderr",
     "output_type": "stream",
     "text": [
      "Failed to send telemetry event CollectionQueryEvent: capture() takes 1 positional argument but 3 were given\n"
     ]
    },
    {
     "data": {
      "text/plain": [
       "{'messages': [ToolMessage(content='<Document href=\"./data/restaurant_menu.txt\"/>\\n8. 안심 스테이크 샐러드\\n   • 가격: ₩26,000\\n   • 주요 식재료: 소고기 안심, 루꼴라, 체리 토마토, 발사믹 글레이즈\\n   • 설명: 부드러운 안심 스테이크를 얇게 슬라이스하여 신선한 루꼴라 위에 올린 메인 요리 샐러드입니다. 체리 토마토와 파마산 치즈 플레이크로 풍미를 더하고, 발사믹 글레이즈로 마무리하여 고기의 풍미를 한층 끌어올렸습니다.\\n</Document>\\n---\\n<Document href=\"./data/restaurant_menu.txt\"/>\\n7. 랍스터 비스크\\n   • 가격: ₩28,000\\n   • 주요 식재료: 랍스터, 생크림, 브랜디, 파프리카\\n   • 설명: 랍스터 껍질과 육수로 오랜 시간 우려낸 진한 비스크 수프입니다. 생크림으로 부드러운 질감을 더하고 브랜디로 깊은 풍미를 살렸습니다. 작은 랍스터 살을 토핑으로 올려 고급스러움을 더했습니다.\\n</Document>', name='search_menu', tool_call_id='call_e6CJI1nFeArNeVhtqMaxMWFD')]}"
      ]
     },
     "execution_count": 17,
     "metadata": {},
     "output_type": "execute_result"
    }
   ],
   "source": [
    "results = tool_node.invoke({\"messages\": [tool_call]})\n",
    "\n",
    "results"
   ]
  },
  {
   "cell_type": "code",
   "execution_count": 18,
   "id": "6442a960",
   "metadata": {},
   "outputs": [
    {
     "name": "stdout",
     "output_type": "stream",
     "text": [
      "<Document href=\"./data/restaurant_menu.txt\"/>\n",
      "8. 안심 스테이크 샐러드\n",
      "   • 가격: ₩26,000\n",
      "   • 주요 식재료: 소고기 안심, 루꼴라, 체리 토마토, 발사믹 글레이즈\n",
      "   • 설명: 부드러운 안심 스테이크를 얇게 슬라이스하여 신선한 루꼴라 위에 올린 메인 요리 샐러드입니다. 체리 토마토와 파마산 치즈 플레이크로 풍미를 더하고, 발사믹 글레이즈로 마무리하여 고기의 풍미를 한층 끌어올렸습니다.\n",
      "</Document>\n",
      "---\n",
      "<Document href=\"./data/restaurant_menu.txt\"/>\n",
      "7. 랍스터 비스크\n",
      "   • 가격: ₩28,000\n",
      "   • 주요 식재료: 랍스터, 생크림, 브랜디, 파프리카\n",
      "   • 설명: 랍스터 껍질과 육수로 오랜 시간 우려낸 진한 비스크 수프입니다. 생크림으로 부드러운 질감을 더하고 브랜디로 깊은 풍미를 살렸습니다. 작은 랍스터 살을 토핑으로 올려 고급스러움을 더했습니다.\n",
      "</Document>\n",
      "\n"
     ]
    }
   ],
   "source": [
    "for result in results[\"messages\"]:\n",
    "    print(result.content)\n",
    "    print()"
   ]
  },
  {
   "cell_type": "code",
   "execution_count": 19,
   "id": "03fbc481",
   "metadata": {},
   "outputs": [],
   "source": [
    "from langgraph.prebuilt import create_react_agent\n",
    "\n",
    "graph = create_react_agent(\n",
    "    model=llm,\n",
    "    tools=tools\n",
    ")"
   ]
  },
  {
   "cell_type": "code",
   "execution_count": 20,
   "id": "ead8aafd",
   "metadata": {},
   "outputs": [
    {
     "data": {
      "image/png": "[encoded data removed]",
      "text/plain": [
       "<IPython.core.display.Image object>"
      ]
     },
     "metadata": {},
     "output_type": "display_data"
    }
   ],
   "source": [
    "from IPython.display import Image, display\n",
    "\n",
    "display(Image(graph.get_graph().draw_mermaid_png()))"
   ]
  },
  {
   "cell_type": "code",
   "execution_count": 21,
   "id": "7e57a028",
   "metadata": {},
   "outputs": [
    {
     "name": "stdout",
     "output_type": "stream",
     "text": [
      "================================\u001b[1m Human Message \u001b[0m=================================\n",
      "\n",
      "스테이크 메뉴의 가격은 얼마인가요?\n",
      "==================================\u001b[1m Ai Message \u001b[0m==================================\n",
      "Tool Calls:\n",
      "  search_menu (call_61Se0xWhK9I9gWjihy9EDEvg)\n",
      " Call ID: call_61Se0xWhK9I9gWjihy9EDEvg\n",
      "  Args:\n",
      "    query: 스테이크\n",
      "=================================\u001b[1m Tool Message \u001b[0m=================================\n",
      "Name: search_menu\n",
      "\n",
      "<Document href=\"./data/restaurant_menu.txt\"/>\n",
      "8. 안심 스테이크 샐러드\n",
      "   • 가격: ₩26,000\n",
      "   • 주요 식재료: 소고기 안심, 루꼴라, 체리 토마토, 발사믹 글레이즈\n",
      "   • 설명: 부드러운 안심 스테이크를 얇게 슬라이스하여 신선한 루꼴라 위에 올린 메인 요리 샐러드입니다. 체리 토마토와 파마산 치즈 플레이크로 풍미를 더하고, 발사믹 글레이즈로 마무리하여 고기의 풍미를 한층 끌어올렸습니다.\n",
      "</Document>\n",
      "---\n",
      "<Document href=\"./data/restaurant_menu.txt\"/>\n",
      "7. 랍스터 비스크\n",
      "   • 가격: ₩28,000\n",
      "   • 주요 식재료: 랍스터, 생크림, 브랜디, 파프리카\n",
      "   • 설명: 랍스터 껍질과 육수로 오랜 시간 우려낸 진한 비스크 수프입니다. 생크림으로 부드러운 질감을 더하고 브랜디로 깊은 풍미를 살렸습니다. 작은 랍스터 살을 토핑으로 올려 고급스러움을 더했습니다.\n",
      "</Document>\n",
      "==================================\u001b[1m Ai Message \u001b[0m==================================\n",
      "\n",
      "스테이크 메뉴의 가격은 다음과 같습니다:\n",
      "\n",
      "1. **안심 스테이크 샐러드**\n",
      "   - 가격: ₩26,000\n",
      "   - 주요 식재료: 소고기 안심, 루꼴라, 체리 토마토, 발사믹 글레이즈\n",
      "   - 설명: 부드러운 안심 스테이크를 얇게 슬라이스하여 신선한 루꼴라 위에 올린 메인 요리 샐러드입니다. 체리 토마토와 파마산 치즈 플레이크로 풍미를 더하고, 발사믹 글레이즈로 마무리하여 고기의 풍미를 한층 끌어올렸습니다.\n"
     ]
    }
   ],
   "source": [
    "inputs ={\n",
    "    \"messages\":[\n",
    "        HumanMessage(\"스테이크 메뉴의 가격은 얼마인가요?\")\n",
    "    ]\n",
    "}\n",
    "\n",
    "messages = graph.invoke(inputs)\n",
    "for message in messages[\"messages\"]:\n",
    "    message.pretty_print()"
   ]
  },
  {
   "cell_type": "code",
   "execution_count": 22,
   "id": "27c2fa5e",
   "metadata": {},
   "outputs": [],
   "source": [
    "from langgraph.graph import MessagesState, StateGraph, START, END\n",
    "from langchain_core.messages import AIMessage, HumanMessage, SystemMessage\n",
    "\n",
    "class GraphState(MessagesState):#messages 속성\n",
    "    pass"
   ]
  },
  {
   "cell_type": "code",
   "execution_count": 27,
   "id": "04ce429d",
   "metadata": {},
   "outputs": [],
   "source": [
    "system_prompt = dedent(\"\"\"\n",
    "You are an AI assistant designed to answer human questions. \n",
    "You can use the provided tools to help generate your responses.\n",
    "\n",
    "Follow these steps to answer questions:\n",
    "    1. Carefully read and understand the question.\n",
    "    2. Use the provided tools to obtain necessary information.\n",
    "    3. Immediately after using a tool, cite the source using the format below.\n",
    "    4. Construct an accurate and helpful answer using the tool outputs and citations.\n",
    "    5. Provide the final answer when you determine it's complete.\n",
    "\n",
    "When using tools, follow this format:\n",
    "    Action: tool_name\n",
    "    Action Input: input for the tool\n",
    "\n",
    "Immediately after receiving tool output, cite the source as follows:\n",
    "    [Source: tool_name | document_title/item_name | url/file_path]\n",
    "\n",
    "For example:\n",
    "    Action: search_menu\n",
    "    Action Input: 스테이크\n",
    "    \n",
    "    (After receiving tool output)\n",
    "    [Source: search_menu | 스테이크 | ./data/data.txt]\n",
    "    스테이크에 대한 정보는 다음과 같습니다...\n",
    "\n",
    "    Action: search_web\n",
    "    Action Input: History of AI\n",
    "\n",
    "    (After receiving tool output)\n",
    "    [Source: search_web | AI History | https://en.wikipedia.org/wiki/History_of_artificial_intelligence]\n",
    "    AI의 역사는 다음과 같이 요약됩니다...\n",
    "\n",
    "If tool use is not necessary, answer directly.\n",
    "\n",
    "Your final answer should be clear, concise, and directly related to the user's question. \n",
    "Ensure that every piece of factual information in your response is accompanied by a citation.\n",
    "\n",
    "Remember: ALWAYS include these citations for all factual information, tool outputs, and referenced documents in your response. \n",
    "Do not provide any information without a corresponding citation.\n",
    "\"\"\")"
   ]
  },
  {
   "cell_type": "code",
   "execution_count": 28,
   "id": "5d3879f1",
   "metadata": {},
   "outputs": [],
   "source": [
    "def call_mode(state: GraphState) -> GraphState:\n",
    "    system_message = SystemMessage(content=system_prompt)\n",
    "    messages = [system_message] + state['messages']\n",
    "    response = llm_with_tools.invoke(messages) #tool_calls\n",
    "\n",
    "    return {\"messages\": [response]}\n",
    "\n",
    "def should_continue(state: GraphState):\n",
    "    last_message = state['messages'][-1]\n",
    "    if last_message.tool_calls:\n",
    "        return \"execute_tools\"\n",
    "    \n",
    "    return END"
   ]
  },
  {
   "cell_type": "code",
   "execution_count": 29,
   "id": "634627b0",
   "metadata": {},
   "outputs": [],
   "source": [
    "builder = StateGraph(GraphState)\n",
    "builder.add_node(\"call_mode\", call_mode)\n",
    "builder.add_node(\"execute_tools\", ToolNode(tools))\n",
    "\n",
    "builder.add_edge(START, \"call_mode\")\n",
    "builder.add_conditional_edges(\n",
    "    \"call_mode\",\n",
    "    should_continue,\n",
    "    {\n",
    "        \"execute_tools\": \"execute_tools\",\n",
    "        END: END\n",
    "    }\n",
    ")\n",
    "\n",
    "builder.add_edge(\"execute_tools\", \"call_mode\")\n",
    "graph = builder.compile();"
   ]
  },
  {
   "cell_type": "code",
   "execution_count": 30,
   "id": "b4f38454",
   "metadata": {},
   "outputs": [
    {
     "data": {
      "image/png": "[encoded data removed]",
      "text/plain": [
       "<IPython.core.display.Image object>"
      ]
     },
     "metadata": {},
     "output_type": "display_data"
    }
   ],
   "source": [
    "from IPython.display import Image, display\n",
    "\n",
    "display(Image(graph.get_graph().draw_mermaid_png()))"
   ]
  },
  {
   "cell_type": "code",
   "execution_count": 32,
   "id": "a5f122e0",
   "metadata": {},
   "outputs": [
    {
     "name": "stdout",
     "output_type": "stream",
     "text": [
      "================================\u001b[1m Human Message \u001b[0m=================================\n",
      "\n",
      "파스타에 어울리는 음료는 무엇인가요?\n",
      "==================================\u001b[1m Ai Message \u001b[0m==================================\n",
      "Tool Calls:\n",
      "  search_menu (call_NMAx4pr81WrGnEvg8f0jXuI9)\n",
      " Call ID: call_NMAx4pr81WrGnEvg8f0jXuI9\n",
      "  Args:\n",
      "    query: 파스타 음료\n",
      "=================================\u001b[1m Tool Message \u001b[0m=================================\n",
      "Name: search_menu\n",
      "\n",
      "<Document href=\"./data/restaurant_menu.txt\"/>\n",
      "6. 해산물 파스타\n",
      "   • 가격: ₩24,000\n",
      "   • 주요 식재료: 링귀네 파스타, 새우, 홍합, 오징어, 토마토 소스\n",
      "   • 설명: 알 덴테로 삶은 링귀네 파스타에 신선한 해산물을 듬뿍 올린 메뉴입니다. 토마토 소스의 산미와 해산물의 감칠맛이 조화를 이루며, 마늘과 올리브 오일로 풍미를 더했습니다. 파슬리를 뿌려 향긋한 맛을 더합니다.\n",
      "</Document>\n",
      "---\n",
      "<Document href=\"./data/restaurant_menu.txt\"/>\n",
      "4. 버섯 크림 수프\n",
      "   • 가격: ₩10,000\n",
      "   • 주요 식재료: 양송이버섯, 표고버섯, 생크림, 트러플 오일\n",
      "   • 설명: 양송이버섯과 표고버섯을 오랜 시간 정성스레 끓여 만든 크림 수프입니다. 부드러운 텍스처와 깊은 버섯 향이 특징이며, 최상급 트러플 오일을 살짝 뿌려 고급스러운 향을 더했습니다. 파슬리를 곱게 다져 고명으로 올려 제공됩니다.\n",
      "</Document>\n",
      "==================================\u001b[1m Ai Message \u001b[0m==================================\n",
      "Tool Calls:\n",
      "  search_web (call_sVCksQP62qelqu80RlS6GGT2)\n",
      " Call ID: call_sVCksQP62qelqu80RlS6GGT2\n",
      "  Args:\n",
      "    query: 음식과 어울리는 음료 추천\n",
      "=================================\u001b[1m Tool Message \u001b[0m=================================\n",
      "Name: search_web\n",
      "\n",
      "<Document href=\"http://www.newswatch.kr/news/articleView.html?idxno=12527\"/>\n",
      "치맥(치킨과 맥주)∙피맥(피자와 맥주),와인 페어링(스테이크+레드 와인,해산물 요리+화이트 와인)처럼 맵고,짜고,느끼하고,기름진 세계 각지의 음식과 곁들이면 더 맛있게 즐길 수 있는 궁합 음료가 있다.\n",
      "이탈리아 음식은 외국 음식 중 우리나라에서 가장 대중화 된 음식이다.레스토랑에서 즐기는 파스타와 피자가 대표적이다.\n",
      "최근에는 라자냐,파니니 등의 음식도 인기를 얻고 있다.그리고 이러한 이탈리아 음식들은 올리브오일이나 치즈를 주로 활용하는 탓에 한국인들의 입맛에는 느끼하게 여겨질 수 있어 청량하고 상쾌한 맛의 사이다가 잘 어울린다.\n",
      "사이다는 다른 탄산음료에 비해 깨끗한 맛으로 음식의 맛을 돋구고,느끼한 음식이 가지고 있는 텁텁함을 상쾌하게 해소해준다.또한,입 안을 깔끔하고 개운하게 하여 식사의 마지막에 마시면 산뜻하게 마무리할 수 있도록 도와준다. [...] 최근엔 기존의 쌀국수 외에도 베트남의 수도‘하노이’의‘분짜’가 주목 받고 있다.분짜는 쌀국수에 불에 구운 고기와 각종 채소,소스,라임즙 등을 섞어 먹는 일종의 비벼먹는 쌀국수다.미국의 오바마 전 대통령이 베트남 방문시 분짜를 먹어 화제가 된 바 있다.국내에서는 특히 젊은 여성층에서 많은 인기를 누리고 있다.\n",
      "분짜나 쌀국수를 먹을 때는 상큼하면서도 청량한 과즙 스파클링 음료가 잘 어울린다.과즙 스파클링 음료는 과즙에 탄산이 가미돼 달콤상큼한 과일의 맛과 탄산의 청량함을 함께 즐길 수 있어 새콤달콤한 맛의 분짜와 잘 어울린다.\n",
      "청량한 무알콜 음료도 가볍게 분위기를 내면서 베트남 음식의 느끼한 맛을 잡아줘 함께 마시기 좋다.\n",
      "홍콩에는‘얌차’라는 브런치 문화가 있다.얌차는 차와 함께 딤섬을 느긋하게 즐기는 과정을 칭한다.최근 해외 여행을 통해 홍콩의 얌차 문화를 접한 이들이 늘어나면서 국내에서도 딤섬에 대한 관심이 높아지고 있다. [...] 다양한 맛의 어울림이 매력적인 태국 요리는 자극적이면서 향이 강한 맛으로 젊은 세대들에게 인기다.짠맛,단맛,신맛이 고루 어우러진 태국식 볶음쌀국수‘팟타이’,부드러운 커리에 볶은 게요리인‘푸팟퐁커리’등은 국내에서 많은 사랑을 받고 있는 태국 요리다.\n",
      "팟타이나 푸팟퐁커리처럼 향이 강하고 자극적인 태국 요리에는 톡 쏘는 맛의 탄산수가 잘 어울린다.탄산수는 태국 음식의 다양한 양념의 맛을 해치지 않으면서 톡 쏘는 맛으로 음식의 맛을 보완해주는 역할을 한다.제로 칼로리라 부담 없이 즐길 수 있는 점도 장점이다.\n",
      "한국에서 이탈리아 음식과 함께 성공한 외국 음식으로 베트남 음식이 꼽힌다.베트남 쌀국수가 대표적.\n",
      "</Document>\n",
      "---\n",
      "<Document href=\"https://m.blog.naver.com/sshp1979/221644575442\"/>\n",
      "본문 폰트 크기 조정본문 폰트 크기 작게 보기 본문 폰트 크기 크게 보기 가\n",
      "   _공감_  \n",
      "   공유하기\n",
      "   URL복사\n",
      "   신고하기\n",
      "\n",
      "추석음식과 함께 먹으면 좋은 음료수 알아보아요\n",
      "\n",
      "Image 5\n",
      "\n",
      "안녕하세요 숭실호스피탈리티입니다^^\n",
      "\n",
      "이번주는 국내 대표 명절 중 하나인 추석을 앞두고 있는데요.\n",
      "\n",
      "추석은 곡식과 광일의 수확철 시기에 있기 때문에 늘 풍요로\n",
      "\n",
      "운 음식들이 한상 가득하죠~ 예전에는 일년 중 영양 보충하는\n",
      "\n",
      "좋은 기회로 여겨지기도 했다고 하네요~\n",
      "\n",
      "​\n",
      "\n",
      "오늘은 명절음식과 어울리는 음료에 대해 알아볼텐데요.\n",
      "\n",
      "치킨에는 맥주, 삼겹살에는 소주처럼 많은 분들기 즐기는\n",
      "\n",
      "대표 음식들에는 어울리는 음료가 항상 같이 따라오는 법이죠~\n",
      "\n",
      "​\n",
      "\n",
      "음식과의 궁합이 맞는 음료는 음식의 맛을 배로 업그레이드를\n",
      "\n",
      "해주는가 하면 영양적인 면에서도 부족한 부분을 보충 시켜주\n",
      "\n",
      "기도 한답니다. 추석 명절날 입이 행복하고 즐거운 시간을 만 [...] 로 다양한 요리에 잘 어울리는 음료 라고 하며 이번 추석과 맛있는\n",
      "\n",
      "음식과 함께 콜라를 마시며 상쾌함도 느끼도 요리에도 활용해 색다른\n",
      "\n",
      "맛의 추석 음식을 즐겼으면 한다고 밝혔다고 하네요~\n",
      "\n",
      "​\n",
      "\n",
      "Image 7\n",
      "\n",
      "추석하면 송편! 항산화 효과 늘려주는 수정과. 모과차 등 전통음료\n",
      "\n",
      "​\n",
      "\n",
      "추석하면 떠오는 대표적인 음식으로 송편을 꼽을 수 있는데요. 반달\n",
      "\n",
      "모양의 송편은 반달이 보름달처럼 변하는 것처럼 풍성한 수확을 바\n",
      "\n",
      "라는 마음이 들어있는 것으로 추석 명절 가족들이 모여 앉아 오손\n",
      "\n",
      "도손 담소를 나누며 만들 수 있는 가족화합을 도모할 수 있는 음식이죠~\n",
      "\n",
      "​\n",
      "\n",
      "송편과 어울리는 음료로는 전통음료인 수정과가 있답니다. 2011년 한\n",
      "\n",
      "연구단체의 연구 결과에 따르면 송편과 수정과가 함께 했을 때 항산화\n",
      "\n",
      "효과가 40% 가량 더 높아지는 것으로 나타나 우리 떡과 전통차가 궁합\n",
      "\n",
      "이 잘맞는다는 사실이 확인됬답니다~ 송편에 수정과나 모과차와 같이 [...] 들어 줄 대표적인 음식과 그에 맞는 음료를 알아보도록 할게요~\n",
      "\n",
      "​\n",
      "\n",
      "Image 6\n",
      "\n",
      "명불허전 추석선물 1위 \"갈비찜\" 시원한 청량감과 요리 맛을\n",
      "\n",
      "배로 올려주는 콜라!\n",
      "\n",
      "​\n",
      "\n",
      "최근 한 온라인 몰 설문조사 결과 가장 받고 싶은 추석선물로 \"갈비\"\n",
      "\n",
      "가 뽑힐 정도로 갈비찜은 추석명절 상차림에 빠지지 않는 대표 음식\n",
      "\n",
      "중 하나죠. 명절날 다 함께 모여 풍성한 갈비찜을 먹다 마음까지도\n",
      "\n",
      "넉넉해지는 기분! 이런 갈비찜에는 고기 음식의 느끼함을 잡아주고\n",
      "\n",
      "텁텁함을 해소시켜 줄 짜릿하고 상쾌한 맛의 청량음료인 콜라가 제격\n",
      "\n",
      "이랍니다~ 단순히 음용 외에도 최근 한 예능프로를 통해 온라인 상에\n",
      "\n",
      "서 화제가 된 \"콜라 갈비찜\" 이나 안동 찜닭에 콜라를 넣어 먹는 \"콜라\n",
      "\n",
      "찜닭\" 등가 같이 고기 요리시에도 콜라는 많이 활용이 되고 있답니다\n",
      "\n",
      "​\n",
      "\n",
      "콜라 브랜드의 한 관계자는 콜라는 적은 칼로리로 다양한 맛을 낼 수\n",
      "\n",
      "있는 웰빙 요리 레시피로 많은 요리 전문가들에 의해 연구가 될 정도\n",
      "</Document>\n",
      "---\n",
      "<Document href=\"https://winryrockbell.tistory.com/764\"/>\n",
      "샴페인 이나 모스카토 같은 가벼운 스파클링 와인도 디저트와 잘 어울립니다. 샴페인은 그 상큼한 탄산이 과일 디저트와 궁합이 좋으며, 고급스러운 느낌을 더해줍니다.\n",
      "\n",
      "Image 7: 와인\n",
      "\n",
      "와인\n",
      "\n",
      "### 4. 차: 자연스럽고 건강한 선택\n",
      "\n",
      "차 는 커피보다 더 부드럽고 자연스러운 맛을 선사하며, 디저트와 함께 즐기기에 건강한 선택입니다. 특히 녹차 는 일본식 디저트와, 자스민 차 는 중국식 디저트와 잘 어울립니다.\n",
      "\n",
      "또한, 허브 차 는 디저트 후 입 안을 깔끔하게 정리해주며, 소화를 돕는 효과가 있어 디저트와 함께 마시기에 이상적입니다. 루이보스 차나 카모마일 차 같은 허브 차는 부드럽고 고소한 맛이 디저트의 맛과 잘 어우러집니다.\n",
      "\n",
      "Image 8: 자스민 차\n",
      "\n",
      "자스민 차\n",
      "\n",
      "### 결론 [...] 식사 후 최고의 음료는 디저트와 함께 즐기기에 완벽한 조화를 이룹니다. 달콤한 디저트와 함께라면, 그 맛을 더욱 돋보이게 해주는 음료가 필요합니다. 이번 포스팅에서는 식사 후 디저트와 함께 즐기기 좋은 음료를 추천하고, 각각의 음료가 어떻게 디저트와 어울리는지 알아보겠습니다.\n",
      "\n",
      "### 1. 커피: 클래식한 디저트 음료\n",
      "\n",
      "커피 는 디저트와 가장 잘 어울리는 음료 중 하나입니다. 커피 의 깊고 진한 맛은 초콜릿, 케이크, 쿠키와 같은 달콤한 디저트와 훌륭하게 조화를 이룹니다. 특히, 에스프레소나 아메리카노와 같은 강한 커피는 달콤한 디저트와의 균형을 잘 맞추어 주기 때문에 많은 사람들이 식사 후 즐겨 마십니다.\n",
      "\n",
      "디저트가 너무 달콤할 때, 커피 의 쌉쌀한 맛이 단맛을 중화시키며 더욱 맛있게 느껴지게 해줍니다. 또한, 카페라떼나 카푸치노처럼 우유가 들어간 커피는 부드러운 맛을 더해 디저트의 풍미를 살려줍니다.\n",
      "\n",
      "Image 5: 커피\n",
      "\n",
      "커피\n",
      "</Document>\n",
      "==================================\u001b[1m Ai Message \u001b[0m==================================\n",
      "\n",
      "파스타와 어울리는 음료는 주로 상큼하고 청량한 음료입니다. 이러한 음료는 파스타의 풍미를 보완하며 느끼함을 중화시켜줍니다. 다음은 파스타에 잘 어울리는 몇 가지 음료입니다:\n",
      "\n",
      "1. **화이트 와인**: 해산물 파스타와 같은 요리에는 화이트 와인이 잘 어울립니다. 화이트 와인의 산미가 해산물의 맛을 강조해주고 조화롭게 어울립니다. [Source: search_web | 음식과 어울리는 음료 추천 | http://www.newswatch.kr/news/articleView.html?idxno=12527]\n",
      "\n",
      "2. **사이다 또는 탄산수**: 파스타와 함께 사이다나 청량한 탄산수를 마시면 느끼한 맛을 상쾌하게 해소할 수 있습니다. 특히, 사이다는 깨끗한 맛으로 음식의 맛을 돋구는 효과가 있습니다. [Source: search_web | 음식과 어울리는 음료 추천 | http://www.newswatch.kr/news/articleView.html?idxno=12527]\n",
      "\n",
      "3. **차**: 녹차나 허브차 같은 자연스러운 차도 건강한 선택이 될 수 있습니다. 이런 음료는 식사 후 입안을 깔끔하게 정리해주고 소화를 돕는 효과가 있습니다. [Source: search_web | 음식과 어울리는 음료 추천 | http://www.newswatch.kr/news/articleView.html?idxno=12527]\n",
      "\n",
      "이 외에도 개인의 취향에 따라 다양한 음료를 시도해볼 수 있습니다. 파스타의 종류나 소스에 따라 음료의 선택이 달라질 수 있으니, 여러 가지 조합을 즐겨보는 것도 좋습니다.\n"
     ]
    }
   ],
   "source": [
    "inputs ={\n",
    "    \"messages\":[\n",
    "        HumanMessage(\"파스타에 어울리는 음료는 무엇인가요?\")\n",
    "        #HumanMessage(\"스테이크 메뉴의 가격은 얼마인가요?\")\n",
    "    ]\n",
    "}\n",
    "\n",
    "messages = graph.invoke(inputs)\n",
    "for message in messages[\"messages\"]:\n",
    "    message.pretty_print()"
   ]
  },
  {
   "cell_type": "code",
   "execution_count": 33,
   "id": "b856cbb5",
   "metadata": {},
   "outputs": [
    {
     "name": "stdout",
     "output_type": "stream",
     "text": [
      "================================\u001b[1m Human Message \u001b[0m=================================\n",
      "\n",
      "방금 답변에 대한 출처가 있나요?\n",
      "==================================\u001b[1m Ai Message \u001b[0m==================================\n",
      "\n",
      "제가 제공하는 모든 정보는 반드시 출처가 포함되어야 합니다. 만약 제가 답변을 드렸다면, 그 답변에 대한 출처를 명시했을 것입니다. 특정 질문에 대한 이전 답변이나 출처가 필요하시면 질문해 주시면 그에 대해 다시 확인해 드리겠습니다.\n"
     ]
    }
   ],
   "source": [
    "inputs ={\n",
    "    \"messages\":[\n",
    "        HumanMessage(\"방금 답변에 대한 출처가 있나요?\")        \n",
    "    ]\n",
    "}\n",
    "\n",
    "messages = graph.invoke(inputs)\n",
    "for message in messages[\"messages\"]:\n",
    "    message.pretty_print()"
   ]
  },
  {
   "cell_type": "code",
   "execution_count": 34,
   "id": "5b3d4ec8",
   "metadata": {},
   "outputs": [],
   "source": [
    "from langgraph.checkpoint.memory import MemorySaver\n",
    "\n",
    "memory = MemorySaver()\n",
    "\n",
    "graph_memory = builder.compile(checkpointer=memory)"
   ]
  },
  {
   "cell_type": "code",
   "execution_count": 35,
   "id": "5f1f3407",
   "metadata": {},
   "outputs": [
    {
     "name": "stdout",
     "output_type": "stream",
     "text": [
      "================================\u001b[1m Human Message \u001b[0m=================================\n",
      "\n",
      "파스타에 어울리는 음료는 무엇인가요?\n",
      "==================================\u001b[1m Ai Message \u001b[0m==================================\n",
      "Tool Calls:\n",
      "  search_menu (call_eKrgjbp72SzxFGtjG4cvEXbC)\n",
      " Call ID: call_eKrgjbp72SzxFGtjG4cvEXbC\n",
      "  Args:\n",
      "    query: 파스타 음료\n",
      "=================================\u001b[1m Tool Message \u001b[0m=================================\n",
      "Name: search_menu\n",
      "\n",
      "<Document href=\"./data/restaurant_menu.txt\"/>\n",
      "6. 해산물 파스타\n",
      "   • 가격: ₩24,000\n",
      "   • 주요 식재료: 링귀네 파스타, 새우, 홍합, 오징어, 토마토 소스\n",
      "   • 설명: 알 덴테로 삶은 링귀네 파스타에 신선한 해산물을 듬뿍 올린 메뉴입니다. 토마토 소스의 산미와 해산물의 감칠맛이 조화를 이루며, 마늘과 올리브 오일로 풍미를 더했습니다. 파슬리를 뿌려 향긋한 맛을 더합니다.\n",
      "</Document>\n",
      "---\n",
      "<Document href=\"./data/restaurant_menu.txt\"/>\n",
      "4. 버섯 크림 수프\n",
      "   • 가격: ₩10,000\n",
      "   • 주요 식재료: 양송이버섯, 표고버섯, 생크림, 트러플 오일\n",
      "   • 설명: 양송이버섯과 표고버섯을 오랜 시간 정성스레 끓여 만든 크림 수프입니다. 부드러운 텍스처와 깊은 버섯 향이 특징이며, 최상급 트러플 오일을 살짝 뿌려 고급스러운 향을 더했습니다. 파슬리를 곱게 다져 고명으로 올려 제공됩니다.\n",
      "</Document>\n",
      "==================================\u001b[1m Ai Message \u001b[0m==================================\n",
      "Tool Calls:\n",
      "  search_web (call_em9n96nSn56eZ6G9z8aprgar)\n",
      " Call ID: call_em9n96nSn56eZ6G9z8aprgar\n",
      "  Args:\n",
      "    query: 음료 추천 파스타\n",
      "=================================\u001b[1m Tool Message \u001b[0m=================================\n",
      "Name: search_web\n",
      "\n",
      "<Document href=\"https://mashija.com/%ED%8C%8C%EC%8A%A4%ED%83%80%EC%99%80-%EC%9E%98-%EC%96%B4%EC%9A%B8%EB%A6%AC%EB%8A%94-%EC%99%80%EC%9D%B8/\"/>\n",
      "위에 나열된 레드 와인 페어링 중 일부가 너무 ‘안전하다’고 생각했다면, 소믈리에 에밀리 오헤어(Emily O’Hare)가 일반적인 통념에 도전하는 제안을 한다.\n",
      "\n",
      "그녀는 볼로네제 파스타와 함께 베르나차 디 산 지미냐노를 추천하며, “이 화이트 와인을 점점 더 좋아하게 된다.’라고 했다.\n",
      "\n",
      "‘얼마나 맛있는지… 더구나 이 화이트 와인은 레드 와인보다 이 음식에 더 잘 어울렸다.’라고 언급했다.\n",
      "\n",
      "고려해야 할 몇 가지 다른 스타일  \n",
      "호박 라비올리(Pumpkin ravioli)에는 약간의 단맛이 있어, 피노 누아(Pinot Noir)의 산도와 붉은 과일, 그리고 약간의 달콤한 향신료 풍미와 잘 어울린다.\n",
      "\n",
      "또는, 알자스의 피노 그리(Pinot Gris)를 선택한다면 더 대담한 과일 풍미, 은은한 생강과 함께 신선한 산도를 느낄 수 있다. [...] # 파스타와 잘 어울리는 와인\n",
      "\n",
      "파스타는 다양한 소스를 활용하여 스타일 면에서 많은 옵션을 제공하여, 실험을 즐기는 이들에게 와인 페어링 놀이를 제공한다. 다음은 이탈리아에 중점을 둔 몇 가지 고전적인 와인 스타일을 소개한다.\n",
      "\n",
      "수많은 옵션이 있는 와인과 파스타의 페어링은 새로운 스타일을 실험하는 재미가 있다. 고전적인 이탈리아 와인에 중점을 두면서 추가 제안을 더 해, 아래와 같이 초보자를 위해 몇 가지 아이디어를 제공하려 한다.\n",
      "\n",
      "바르베라 다스티(Barbera d’ Asti)  \n",
      "바르베라의 높은 산도와 사랑스러운 붉은 과일의 특징은 토마토소스가 메인인 파스타 요리의 산도를 잘 받쳐줄 수 있다.\n",
      "\n",
      "또한, 르 꼬르동 블루 런던의 마스터 소믈리에인 마티유 롱게르(Matthieu Longuère MS)는 바르베라의 산도가 크림이 많은 베샤멜 소스의 소고기 라자냐와의 균형을 잘 이룰 것이라고 한다. [...] 소고기 라자냐의 풍부함은 당신을 더 견고한 레드 와인을 선택하게 할 수 있지만, 롱게르는 ‘나무 향이 풍부한 와인을 피하고, 그 대신 잘 익은 과실의 풍미가 풍부하고 신선한 스타일의 와인 즉, 바르베라, 보졸레가메, 또는 오스트리아의 츠바이겔트(Zweigelt) 등이 더 좋은 페어링을 선보일 것’이라고 한다.\n",
      "\n",
      "비슷한 이유로, 바르베라는 마카로니 치즈 지방의 느끼함을 깔끔하게 정리할 수 있다.\n",
      "\n",
      "네비올로(Nebbiolo)  \n",
      "트러플(Truffle) 파스타와 수년을 병 숙성한 바롤로(Barolo)와의 페어링은 전 세계가 누리고 있는 피에몬테(Piedmont)의 선물이다.\n",
      "</Document>\n",
      "---\n",
      "<Document href=\"https://www.youtube.com/watch?v=4jiiX_Wq1Nc\"/>\n",
      "평균이 아 이걸 지금까지 하고 이거 1111 나왔거든요 이렇게 대통합이 될 수도 되기도 어렵다 잠깐만 이러면은 야 나 광고 받기가 좀 어려운데 이거 그만큼 이제 면이 마시는 데가 훨씬 더 많다 뭐 1등을 한번 까져 이상황에서 1등을 까주는게 맞다 대초 보 야 데체코 고메가 어거 와 이거 상에서는 3등인데 지금 1등 2등 티를 넘기고 대체 코 고해가 1등을 했다 근데 가격 차이는 거의 두 배거 그러면은 지금 안 나온게 2등이 디벨라 디벨라인 이거 티어랑 오뚜기랑 같은 였거든 이럴 알았어 시 이래가지고 아 이게 제일 싼데 한국에 있는 수많은 파스타 전문점이 벨라를 쓰는 이유가 있다 디벨라 최하위에 지금 먹어 보니까 이거 약간 좀 그런 거 아니야 이미 이미 이거에 약간 좀 혀가 길들여졌다 조련된 거 아니야 수많은 파스타 전문점에 가서 맨날 먹어봤던 익숙한 맛에 약간 좀 절여져 가지고 한국인이 좋아하는 식감 어 어 여기 너무 쫀득쫀득하고 맛있는데 이거데 약간 좀 약간 충격이다 익숙해진 거 [...] 생각합니다 나이와 성교할 때나 이런 것들이 지금 약간네 개의 그룹으로 나눠졌습니다 1번 그룹 1번 그룹 그다음 그룹 13 14 15점 그룹 그리고 렇게 그다음에 18 19점 그룹 그다음에 독보적으로 27점 그룹 이렇게 나눠졌던네 개로 13 14 15 굉장히 이 박빙이 여기는 쓴 사람들도 2 3 55 2 3 4 5 되게 되게 박빙이라 얘기야 까보겠습니다 5 바릴라 데체코 젠틸레 여기 있어 오마이갓 제일 비싼 건데 여기 있어 지금 오마갓 야 여기 누가 갔냐 그러면이 위에 미쳤는데 얘 제일 비싼 거잖아 젠틸레 만 500g 800원으로 압도적으로 비싼 거거든요 급인데 4위 했어 이거 망인데 18 19어 13 14 15랑 좀 점수 차이가 있죠 그래도 상위 입니다이 하나만 비싼 건데 만치도 이거 500g 9,900원짜리 둘 다 티인데 지금 티어 두 개가 3위 4위를 했어요 중상이 밖에 안 된다 야 우리 마모인 보다 달인가 보 근데 마알못 이라기보다 그냥 평균이라고 보시면 돼요 저희는 되게 [...] 아닌가 왜 디벨라 여기 있지 티인데지 얘는 두기보다 가격 더 싸다 얘가 제일 싸요 디벨라 500g 당 1900 1900원 지금 먹어도 맛있어요 1900원 압도적으로 싸 그니까 사실 파스타는 저는 마차가 많이 할까 싶었는데 짠맛 이런 거 뭐 몽대 정도 이런 건 비슷해요 비슷한 테크닉으로 했기 때문에 근데 식감이랑 어 식감이 면에 소스가 묻어 있는 정도가 달라요 아 대체 고매 맛있다 이거 이거 맛있다이 개 맛있다 진짜 그래서 결과는 1등이 대체 네명의 그 판정단 있었다는 거 어느 정도 감안해 주시고 놀랍게도 디벨라 여기까지 올라왔다네 명의 공통적인 표로 대견하네 어 1 그다음에 만치니 9,900원짜리 지금 3등 800원짜리 4등네 체면 유진 정도는 했다 근데 가격을 생각하면 단 디벨라 테 발렸다 어떻게 된 것이냐 100원짜리가 800원짜리 이겼다 여섯 배 여섯 배 이거 이거 이거 600g 예 100g 먹 600g 먹을 수 있어 같은 가격에 아 미쳤네 디벨라 같은 경우는 면수 점도는\n",
      "</Document>\n",
      "---\n",
      "<Document href=\"https://kjtimes.com/news/article.html?no=50955\"/>\n",
      "코카-콜라사의 ‘스프라이트’는 입안 가득 퍼지는 풍부한 청량감과 상쾌한 향이 특징인 사이다 음료다. 가슴 속까지 깨워주는 청량감과 깨끗함이 느껴지는 레몬라임 맛으로 파스타나 피자처럼 느끼한 음식과 먹으면 입안의 텁텁함을 제거해 식사를 상쾌하게 마무리할 수 있다. 특유의 상쾌함과 청량함으로 파스타나 피자 외에도 파니니, 리조또, 티라미수 등 이탈리아 음식이나 디저트와도 잘 어울린다.\n",
      "\n",
      "이에 스프라이트는 맛있는 음식을 스프라이트로 상쾌하게 마무리하는 ‘스프라이트 & 밀(Sprite & Meal)’ TV 광고를 방영하고 있다. 광고는 느끼한 파스타를 비롯해 다양한 맛의 음식들을 즐기며 스프라이트로 상쾌하게 마무리하는 내용으로, 음식과 잘 어울리는 스프라이트의 청량함을 강조함은 물론 맛있는 음식을 즐길 때는 스프라이트로 상쾌하게 마무리하라는 메시지를 전달하고 있다.\n",
      "\n",
      "■ 중국…매운 ‘훠궈’엔 시원하고 달콤한 유산균 음료 추천 [...] 치맥(치킨과 맥주)∙피맥(피자와 맥주), 와인 페어링(스테이크+레드 와인, 해산물 요리+화이트 와인)처럼 맵고, 짜고, 느끼하고, 기름진 세계 각지의 음식과 곁들이면 더 맛있게 즐길 수 있는 궁합 음료를 소개한다.\n",
      "\n",
      "■ 이탈리아…느끼한 ‘파스타’ ’피자’와 궁합음료는 톡 쏘고 상쾌한 사이다\n",
      "\n",
      "이탈리아 음식은 외국 음식 중 우리나라에서 가장 대중화 된 음식이다. 레스토랑에서 즐기는 파스타와 피자가 대표적이다. 최근에는 라자냐, 파니니 등의 음식도 인기를 얻고 있다. 그리고 이러한 이탈리아 음식들은 올리브오일이나 치즈를 주로 활용하는 탓에 한국인들의 입맛에는 느끼하게 여겨질 수 있어 청량하고 상쾌한 맛의 사이다가 잘 어울린다. 사이다는 다른 탄산음료에 비해 깨끗한 맛으로 음식의 맛을 돋구고, 느끼한 음식이 가지고 있는 텁텁함을 상쾌하게 해소해준다. 또한, 입 안을 깔끔하고 개운하게 하여 식사의 마지막에 마시면 산뜻하게 마무리할 수 있도록 도와준다.\n",
      "</Document>\n",
      "==================================\u001b[1m Ai Message \u001b[0m==================================\n",
      "\n",
      "파스타와 잘 어울리는 음료는 여러 가지가 있습니다. 일반적으로 파스타는 다양한 소스와 조리법이 있어, 이를 고려하여 음료를 선택할 수 있습니다.\n",
      "\n",
      "1. **와인**:\n",
      "   - **화이트 와인**: 예를 들어, 볼로네제 파스타와 잘 어울리는 베르나차 디 산 지미냐노 같은 화이트 와인은 토마토 소스와 좋은 조화를 이룹니다. 이 화이트 와인은 레드 와인보다 파스타와 더 잘 어울린다고 평가됩니다 [Source: search_web | 음료 추천 파스타 | https://mashija.com/%ED%8C%8C%EC%8A%A4%ED%83%80%EC%99%80-%EC%9E%98-%EC%96%B4%EC%9A%B8%EB%A6%AC%EB%8A%94-%EC%99%80%EC%9D%B8/].\n",
      "   - **레드 와인**: 바르베라 다스티와 같은 레드 와인은 높은 산도로 인해 토마토 소스 기반의 파스타와 잘 어울립니다 [Source: search_web | 음료 추천 파스타 | https://mashija.com/%ED%8C%8C%EC%8A%A4%ED%83%80%EC%99%80-%EC%9E%98-%EC%96%B4%EC%9A%B8%EB%A6%AC%EB%8A%94-%EC%99%80%EC%9D%B8/].\n",
      "\n",
      "2. **청량음료**:\n",
      "   - **사이다**: 스프라이트와 같은 탄산음료는 파스타와 잘 어울립니다. 이 음료는 느끼한 음식을 먹은 후 입안을 깨끗하게 해주어 식사 후 상쾌한 느낌을 줍니다 [Source: search_web | 음료 추천 파스타 | https://kjtimes.com/news/article.html?no=50955].\n",
      "\n",
      "이처럼 파스타의 종류와 소스에 따라 다양한 음료와 조화를 이룰 수 있으므로, 개인의 취향에 맞게 선택하는 것이 좋습니다.\n"
     ]
    }
   ],
   "source": [
    "config = {\"configurable\": {\"thread_id\": \"1\"}}\n",
    "\n",
    "inputs ={\n",
    "    \"messages\":[\n",
    "        HumanMessage(\"파스타에 어울리는 음료는 무엇인가요?\")\n",
    "    ]\n",
    "}\n",
    "\n",
    "messages = graph_memory.invoke(inputs, config)\n",
    "for message in messages[\"messages\"]:\n",
    "    message.pretty_print()"
   ]
  },
  {
   "cell_type": "code",
   "execution_count": 36,
   "id": "a3197240",
   "metadata": {},
   "outputs": [
    {
     "name": "stdout",
     "output_type": "stream",
     "text": [
      "================================\u001b[1m Human Message \u001b[0m=================================\n",
      "\n",
      "파스타에 어울리는 음료는 무엇인가요?\n",
      "==================================\u001b[1m Ai Message \u001b[0m==================================\n",
      "Tool Calls:\n",
      "  search_menu (call_eKrgjbp72SzxFGtjG4cvEXbC)\n",
      " Call ID: call_eKrgjbp72SzxFGtjG4cvEXbC\n",
      "  Args:\n",
      "    query: 파스타 음료\n",
      "=================================\u001b[1m Tool Message \u001b[0m=================================\n",
      "Name: search_menu\n",
      "\n",
      "<Document href=\"./data/restaurant_menu.txt\"/>\n",
      "6. 해산물 파스타\n",
      "   • 가격: ₩24,000\n",
      "   • 주요 식재료: 링귀네 파스타, 새우, 홍합, 오징어, 토마토 소스\n",
      "   • 설명: 알 덴테로 삶은 링귀네 파스타에 신선한 해산물을 듬뿍 올린 메뉴입니다. 토마토 소스의 산미와 해산물의 감칠맛이 조화를 이루며, 마늘과 올리브 오일로 풍미를 더했습니다. 파슬리를 뿌려 향긋한 맛을 더합니다.\n",
      "</Document>\n",
      "---\n",
      "<Document href=\"./data/restaurant_menu.txt\"/>\n",
      "4. 버섯 크림 수프\n",
      "   • 가격: ₩10,000\n",
      "   • 주요 식재료: 양송이버섯, 표고버섯, 생크림, 트러플 오일\n",
      "   • 설명: 양송이버섯과 표고버섯을 오랜 시간 정성스레 끓여 만든 크림 수프입니다. 부드러운 텍스처와 깊은 버섯 향이 특징이며, 최상급 트러플 오일을 살짝 뿌려 고급스러운 향을 더했습니다. 파슬리를 곱게 다져 고명으로 올려 제공됩니다.\n",
      "</Document>\n",
      "==================================\u001b[1m Ai Message \u001b[0m==================================\n",
      "Tool Calls:\n",
      "  search_web (call_em9n96nSn56eZ6G9z8aprgar)\n",
      " Call ID: call_em9n96nSn56eZ6G9z8aprgar\n",
      "  Args:\n",
      "    query: 음료 추천 파스타\n",
      "=================================\u001b[1m Tool Message \u001b[0m=================================\n",
      "Name: search_web\n",
      "\n",
      "<Document href=\"https://mashija.com/%ED%8C%8C%EC%8A%A4%ED%83%80%EC%99%80-%EC%9E%98-%EC%96%B4%EC%9A%B8%EB%A6%AC%EB%8A%94-%EC%99%80%EC%9D%B8/\"/>\n",
      "위에 나열된 레드 와인 페어링 중 일부가 너무 ‘안전하다’고 생각했다면, 소믈리에 에밀리 오헤어(Emily O’Hare)가 일반적인 통념에 도전하는 제안을 한다.\n",
      "\n",
      "그녀는 볼로네제 파스타와 함께 베르나차 디 산 지미냐노를 추천하며, “이 화이트 와인을 점점 더 좋아하게 된다.’라고 했다.\n",
      "\n",
      "‘얼마나 맛있는지… 더구나 이 화이트 와인은 레드 와인보다 이 음식에 더 잘 어울렸다.’라고 언급했다.\n",
      "\n",
      "고려해야 할 몇 가지 다른 스타일  \n",
      "호박 라비올리(Pumpkin ravioli)에는 약간의 단맛이 있어, 피노 누아(Pinot Noir)의 산도와 붉은 과일, 그리고 약간의 달콤한 향신료 풍미와 잘 어울린다.\n",
      "\n",
      "또는, 알자스의 피노 그리(Pinot Gris)를 선택한다면 더 대담한 과일 풍미, 은은한 생강과 함께 신선한 산도를 느낄 수 있다. [...] # 파스타와 잘 어울리는 와인\n",
      "\n",
      "파스타는 다양한 소스를 활용하여 스타일 면에서 많은 옵션을 제공하여, 실험을 즐기는 이들에게 와인 페어링 놀이를 제공한다. 다음은 이탈리아에 중점을 둔 몇 가지 고전적인 와인 스타일을 소개한다.\n",
      "\n",
      "수많은 옵션이 있는 와인과 파스타의 페어링은 새로운 스타일을 실험하는 재미가 있다. 고전적인 이탈리아 와인에 중점을 두면서 추가 제안을 더 해, 아래와 같이 초보자를 위해 몇 가지 아이디어를 제공하려 한다.\n",
      "\n",
      "바르베라 다스티(Barbera d’ Asti)  \n",
      "바르베라의 높은 산도와 사랑스러운 붉은 과일의 특징은 토마토소스가 메인인 파스타 요리의 산도를 잘 받쳐줄 수 있다.\n",
      "\n",
      "또한, 르 꼬르동 블루 런던의 마스터 소믈리에인 마티유 롱게르(Matthieu Longuère MS)는 바르베라의 산도가 크림이 많은 베샤멜 소스의 소고기 라자냐와의 균형을 잘 이룰 것이라고 한다. [...] 소고기 라자냐의 풍부함은 당신을 더 견고한 레드 와인을 선택하게 할 수 있지만, 롱게르는 ‘나무 향이 풍부한 와인을 피하고, 그 대신 잘 익은 과실의 풍미가 풍부하고 신선한 스타일의 와인 즉, 바르베라, 보졸레가메, 또는 오스트리아의 츠바이겔트(Zweigelt) 등이 더 좋은 페어링을 선보일 것’이라고 한다.\n",
      "\n",
      "비슷한 이유로, 바르베라는 마카로니 치즈 지방의 느끼함을 깔끔하게 정리할 수 있다.\n",
      "\n",
      "네비올로(Nebbiolo)  \n",
      "트러플(Truffle) 파스타와 수년을 병 숙성한 바롤로(Barolo)와의 페어링은 전 세계가 누리고 있는 피에몬테(Piedmont)의 선물이다.\n",
      "</Document>\n",
      "---\n",
      "<Document href=\"https://www.youtube.com/watch?v=4jiiX_Wq1Nc\"/>\n",
      "평균이 아 이걸 지금까지 하고 이거 1111 나왔거든요 이렇게 대통합이 될 수도 되기도 어렵다 잠깐만 이러면은 야 나 광고 받기가 좀 어려운데 이거 그만큼 이제 면이 마시는 데가 훨씬 더 많다 뭐 1등을 한번 까져 이상황에서 1등을 까주는게 맞다 대초 보 야 데체코 고메가 어거 와 이거 상에서는 3등인데 지금 1등 2등 티를 넘기고 대체 코 고해가 1등을 했다 근데 가격 차이는 거의 두 배거 그러면은 지금 안 나온게 2등이 디벨라 디벨라인 이거 티어랑 오뚜기랑 같은 였거든 이럴 알았어 시 이래가지고 아 이게 제일 싼데 한국에 있는 수많은 파스타 전문점이 벨라를 쓰는 이유가 있다 디벨라 최하위에 지금 먹어 보니까 이거 약간 좀 그런 거 아니야 이미 이미 이거에 약간 좀 혀가 길들여졌다 조련된 거 아니야 수많은 파스타 전문점에 가서 맨날 먹어봤던 익숙한 맛에 약간 좀 절여져 가지고 한국인이 좋아하는 식감 어 어 여기 너무 쫀득쫀득하고 맛있는데 이거데 약간 좀 약간 충격이다 익숙해진 거 [...] 생각합니다 나이와 성교할 때나 이런 것들이 지금 약간네 개의 그룹으로 나눠졌습니다 1번 그룹 1번 그룹 그다음 그룹 13 14 15점 그룹 그리고 렇게 그다음에 18 19점 그룹 그다음에 독보적으로 27점 그룹 이렇게 나눠졌던네 개로 13 14 15 굉장히 이 박빙이 여기는 쓴 사람들도 2 3 55 2 3 4 5 되게 되게 박빙이라 얘기야 까보겠습니다 5 바릴라 데체코 젠틸레 여기 있어 오마이갓 제일 비싼 건데 여기 있어 지금 오마갓 야 여기 누가 갔냐 그러면이 위에 미쳤는데 얘 제일 비싼 거잖아 젠틸레 만 500g 800원으로 압도적으로 비싼 거거든요 급인데 4위 했어 이거 망인데 18 19어 13 14 15랑 좀 점수 차이가 있죠 그래도 상위 입니다이 하나만 비싼 건데 만치도 이거 500g 9,900원짜리 둘 다 티인데 지금 티어 두 개가 3위 4위를 했어요 중상이 밖에 안 된다 야 우리 마모인 보다 달인가 보 근데 마알못 이라기보다 그냥 평균이라고 보시면 돼요 저희는 되게 [...] 아닌가 왜 디벨라 여기 있지 티인데지 얘는 두기보다 가격 더 싸다 얘가 제일 싸요 디벨라 500g 당 1900 1900원 지금 먹어도 맛있어요 1900원 압도적으로 싸 그니까 사실 파스타는 저는 마차가 많이 할까 싶었는데 짠맛 이런 거 뭐 몽대 정도 이런 건 비슷해요 비슷한 테크닉으로 했기 때문에 근데 식감이랑 어 식감이 면에 소스가 묻어 있는 정도가 달라요 아 대체 고매 맛있다 이거 이거 맛있다이 개 맛있다 진짜 그래서 결과는 1등이 대체 네명의 그 판정단 있었다는 거 어느 정도 감안해 주시고 놀랍게도 디벨라 여기까지 올라왔다네 명의 공통적인 표로 대견하네 어 1 그다음에 만치니 9,900원짜리 지금 3등 800원짜리 4등네 체면 유진 정도는 했다 근데 가격을 생각하면 단 디벨라 테 발렸다 어떻게 된 것이냐 100원짜리가 800원짜리 이겼다 여섯 배 여섯 배 이거 이거 이거 600g 예 100g 먹 600g 먹을 수 있어 같은 가격에 아 미쳤네 디벨라 같은 경우는 면수 점도는\n",
      "</Document>\n",
      "---\n",
      "<Document href=\"https://kjtimes.com/news/article.html?no=50955\"/>\n",
      "코카-콜라사의 ‘스프라이트’는 입안 가득 퍼지는 풍부한 청량감과 상쾌한 향이 특징인 사이다 음료다. 가슴 속까지 깨워주는 청량감과 깨끗함이 느껴지는 레몬라임 맛으로 파스타나 피자처럼 느끼한 음식과 먹으면 입안의 텁텁함을 제거해 식사를 상쾌하게 마무리할 수 있다. 특유의 상쾌함과 청량함으로 파스타나 피자 외에도 파니니, 리조또, 티라미수 등 이탈리아 음식이나 디저트와도 잘 어울린다.\n",
      "\n",
      "이에 스프라이트는 맛있는 음식을 스프라이트로 상쾌하게 마무리하는 ‘스프라이트 & 밀(Sprite & Meal)’ TV 광고를 방영하고 있다. 광고는 느끼한 파스타를 비롯해 다양한 맛의 음식들을 즐기며 스프라이트로 상쾌하게 마무리하는 내용으로, 음식과 잘 어울리는 스프라이트의 청량함을 강조함은 물론 맛있는 음식을 즐길 때는 스프라이트로 상쾌하게 마무리하라는 메시지를 전달하고 있다.\n",
      "\n",
      "■ 중국…매운 ‘훠궈’엔 시원하고 달콤한 유산균 음료 추천 [...] 치맥(치킨과 맥주)∙피맥(피자와 맥주), 와인 페어링(스테이크+레드 와인, 해산물 요리+화이트 와인)처럼 맵고, 짜고, 느끼하고, 기름진 세계 각지의 음식과 곁들이면 더 맛있게 즐길 수 있는 궁합 음료를 소개한다.\n",
      "\n",
      "■ 이탈리아…느끼한 ‘파스타’ ’피자’와 궁합음료는 톡 쏘고 상쾌한 사이다\n",
      "\n",
      "이탈리아 음식은 외국 음식 중 우리나라에서 가장 대중화 된 음식이다. 레스토랑에서 즐기는 파스타와 피자가 대표적이다. 최근에는 라자냐, 파니니 등의 음식도 인기를 얻고 있다. 그리고 이러한 이탈리아 음식들은 올리브오일이나 치즈를 주로 활용하는 탓에 한국인들의 입맛에는 느끼하게 여겨질 수 있어 청량하고 상쾌한 맛의 사이다가 잘 어울린다. 사이다는 다른 탄산음료에 비해 깨끗한 맛으로 음식의 맛을 돋구고, 느끼한 음식이 가지고 있는 텁텁함을 상쾌하게 해소해준다. 또한, 입 안을 깔끔하고 개운하게 하여 식사의 마지막에 마시면 산뜻하게 마무리할 수 있도록 도와준다.\n",
      "</Document>\n",
      "==================================\u001b[1m Ai Message \u001b[0m==================================\n",
      "\n",
      "파스타와 잘 어울리는 음료는 여러 가지가 있습니다. 일반적으로 파스타는 다양한 소스와 조리법이 있어, 이를 고려하여 음료를 선택할 수 있습니다.\n",
      "\n",
      "1. **와인**:\n",
      "   - **화이트 와인**: 예를 들어, 볼로네제 파스타와 잘 어울리는 베르나차 디 산 지미냐노 같은 화이트 와인은 토마토 소스와 좋은 조화를 이룹니다. 이 화이트 와인은 레드 와인보다 파스타와 더 잘 어울린다고 평가됩니다 [Source: search_web | 음료 추천 파스타 | https://mashija.com/%ED%8C%8C%EC%8A%A4%ED%83%80%EC%99%80-%EC%9E%98-%EC%96%B4%EC%9A%B8%EB%A6%AC%EB%8A%94-%EC%99%80%EC%9D%B8/].\n",
      "   - **레드 와인**: 바르베라 다스티와 같은 레드 와인은 높은 산도로 인해 토마토 소스 기반의 파스타와 잘 어울립니다 [Source: search_web | 음료 추천 파스타 | https://mashija.com/%ED%8C%8C%EC%8A%A4%ED%83%80%EC%99%80-%EC%9E%98-%EC%96%B4%EC%9A%B8%EB%A6%AC%EB%8A%94-%EC%99%80%EC%9D%B8/].\n",
      "\n",
      "2. **청량음료**:\n",
      "   - **사이다**: 스프라이트와 같은 탄산음료는 파스타와 잘 어울립니다. 이 음료는 느끼한 음식을 먹은 후 입안을 깨끗하게 해주어 식사 후 상쾌한 느낌을 줍니다 [Source: search_web | 음료 추천 파스타 | https://kjtimes.com/news/article.html?no=50955].\n",
      "\n",
      "이처럼 파스타의 종류와 소스에 따라 다양한 음료와 조화를 이룰 수 있으므로, 개인의 취향에 맞게 선택하는 것이 좋습니다.\n",
      "================================\u001b[1m Human Message \u001b[0m=================================\n",
      "\n",
      "여러 개 중 저렴한 메뉴는 무엇인가요?\n",
      "==================================\u001b[1m Ai Message \u001b[0m==================================\n",
      "Tool Calls:\n",
      "  search_menu (call_hiY5fMJAZFZHQsWbEINGPSyy)\n",
      " Call ID: call_hiY5fMJAZFZHQsWbEINGPSyy\n",
      "  Args:\n",
      "    query: 저렴한 메뉴\n",
      "=================================\u001b[1m Tool Message \u001b[0m=================================\n",
      "Name: search_menu\n",
      "\n",
      "<Document href=\"./data/restaurant_menu.txt\"/>\n",
      "3. 연어 타르타르\n",
      "   • 가격: ₩18,000\n",
      "   • 주요 식재료: 노르웨이산 생연어, 아보카도, 케이퍼, 적양파\n",
      "   • 설명: 신선한 노르웨이산 생연어를 곱게 다져 아보카도, 케이퍼, 적양파와 함께 섞어 만든 타르타르입니다. 레몬 드레싱으로 상큼한 맛을 더했으며, 바삭한 브리오쉬 토스트와 함께 제공됩니다. 전채요리로 완벽한 메뉴입니다.\n",
      "</Document>\n",
      "---\n",
      "<Document href=\"./data/restaurant_menu.txt\"/>\n",
      "10. 티라미수\n",
      "    • 가격: ₩9,000\n",
      "    • 주요 식재료: 마스카포네 치즈, 에스프레소, 카카오 파우더, 레이디핑거 비스킷\n",
      "    • 설명: 부드러운 마스카포네 치즈 크림과 에스프레소에 적신 레이디핑거 비스킷을 층층이 쌓아 만든 이탈리아 정통 디저트입니다. 고소한 카카오 파우더를 듬뿍 뿌려 풍미를 더했습니다. 커피의 쌉싸름함과 치즈의 부드러움이 조화롭게 어우러집니다.\n",
      "</Document>\n",
      "==================================\u001b[1m Ai Message \u001b[0m==================================\n",
      "\n",
      "저렴한 메뉴 중 하나는 **티라미수**입니다. 가격은 **₩9,000**이며, 주요 재료로는 마스카포네 치즈, 에스프레소, 카카오 파우더, 레이디핑거 비스킷이 사용됩니다. 이 디저트는 부드러운 치즈 크림과 커피의 쌉싸름함이 조화를 이루는 이탈리아 정통 디저트입니다 [Source: search_menu | 저렴한 메뉴 | ./data/restaurant_menu.txt]. \n",
      "\n",
      "또한, 연어 타르타르가 **₩18,000**으로 저렴한 편에 속하지만, 티라미수보다 비쌉니다.\n"
     ]
    }
   ],
   "source": [
    "config = {\"configurable\": {\"thread_id\": \"1\"}}\n",
    "\n",
    "inputs ={\n",
    "    \"messages\":[\n",
    "        HumanMessage(\"여러 개 중 저렴한 메뉴는 무엇인가요?\")\n",
    "    ]\n",
    "}\n",
    "\n",
    "messages = graph_memory.invoke(inputs, config)\n",
    "for message in messages[\"messages\"]:\n",
    "    message.pretty_print()"
   ]
  },
  {
   "cell_type": "code",
   "execution_count": 37,
   "id": "101f7844",
   "metadata": {},
   "outputs": [
    {
     "name": "stderr",
     "output_type": "stream",
     "text": [
      "c:\\Users\\user\\AppData\\Local\\pypoetry\\Cache\\virtualenvs\\langgraph-work-cwpQpvDj-py3.11\\Lib\\site-packages\\tqdm\\auto.py:21: TqdmWarning: IProgress not found. Please update jupyter and ipywidgets. See https://ipywidgets.readthedocs.io/en/stable/user_install.html\n",
      "  from .autonotebook import tqdm as notebook_tqdm\n"
     ]
    },
    {
     "name": "stdout",
     "output_type": "stream",
     "text": [
      "Running on local URL:  http://127.0.0.1:7860\n",
      "\n",
      "To create a public link, set `share=True` in `launch()`.\n"
     ]
    },
    {
     "data": {
      "text/html": [
       "<div><iframe src=\"http://127.0.0.1:7860/\" width=\"100%\" height=\"500\" allow=\"autoplay; camera; microphone; clipboard-read; clipboard-write;\" frameborder=\"0\" allowfullscreen></iframe></div>"
      ],
      "text/plain": [
       "<IPython.core.display.HTML object>"
      ]
     },
     "metadata": {},
     "output_type": "display_data"
    },
    {
     "data": {
      "text/plain": []
     },
     "execution_count": 37,
     "metadata": {},
     "output_type": "execute_result"
    }
   ],
   "source": [
    "# 챗봇 구현\n",
    "import gradio as gr\n",
    "from typing import List, Tuple\n",
    "import uuid\n",
    "\n",
    "\n",
    "memory = MemorySaver()\n",
    "\n",
    "graph_memory = builder.compile(checkpointer=memory)\n",
    "\n",
    "example_questions = [\n",
    "    \"채식주의자를 위한 메뉴를 추천해 주세요.\",\n",
    "    \"오늘의 스페셜 메뉴는 무엇인가요?\",\n",
    "    \"파스타에 어울리는 음료는 무엇인가요?\"\n",
    "]\n",
    "\n",
    "# 챗봇 답변 메시지 처리를 위한 함수\n",
    "def process_message(message: str, history: List[Tuple[str, str]], thread_id: str) -> str:\n",
    "    try:\n",
    "        config = {\"configurable\": {\"thread_id\": thread_id}}\n",
    "        inputs = {\"messages\": [HumanMessage(content=message)]}\n",
    "        \n",
    "        result = graph_memory.invoke(inputs, config)\n",
    "        \n",
    "        if \"messages\" in result:\n",
    "            last_message = result[\"messages\"][-1]\n",
    "            if isinstance(last_message, AIMessage):\n",
    "                return last_message.content\n",
    "            \n",
    "        return \"응답을 처리하는 데 문제가 발생했습니다.\"\n",
    "    except Exception as e:\n",
    "        return f\"오류가 발생했습니다: {str(e)}\"\n",
    "    \n",
    "    \n",
    "class Chatbot:\n",
    "    def __init__(self):\n",
    "        self.thread_id = str(uuid.uuid4())\n",
    "\n",
    "    def chat(self, message: str, history: List[Tuple[str, str]]) -> str:\n",
    "        response = process_message(message, history, self.thread_id)        #\n",
    "        return response\n",
    "        \n",
    "chatbot = Chatbot()\n",
    "\n",
    "demo = gr.ChatInterface(\n",
    "    fn=chatbot.chat,\n",
    "    examples=example_questions,\n",
    "    title=\"LangGraph 챗봇\",\n",
    "    description=\"레스토랑 메뉴에 대한 질문을 해보세요.\",\n",
    "    theme=gr.themes.Soft(),\n",
    ")\n",
    "\n",
    "demo.launch()"
   ]
  },
  {
   "cell_type": "code",
   "execution_count": 38,
   "id": "f441e0c3",
   "metadata": {},
   "outputs": [
    {
     "name": "stdout",
     "output_type": "stream",
     "text": [
      "Closing server running on port: 7860\n"
     ]
    }
   ],
   "source": [
    "demo.close()"
   ]
  },
  {
   "cell_type": "code",
   "execution_count": null,
   "id": "85b69232",
   "metadata": {},
   "outputs": [],
   "source": []
  }
 ],
 "metadata": {
  "kernelspec": {
   "display_name": "langgraph-env-_XZusGZJ-py3.11",
   "language": "python",
   "name": "python3"
  },
  "language_info": {
   "codemirror_mode": {
    "name": "ipython",
    "version": 3
   },
   "file_extension": ".py",
   "mimetype": "text/x-python",
   "name": "python",
   "nbconvert_exporter": "python",
   "pygments_lexer": "ipython3",
   "version": "3.11.9"
  }
 },
 "nbformat": 4,
 "nbformat_minor": 5
}
